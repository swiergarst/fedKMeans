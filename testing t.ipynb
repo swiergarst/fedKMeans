{
 "cells": [
  {
   "cell_type": "code",
   "execution_count": 6,
   "id": "9d6cee45",
   "metadata": {},
   "outputs": [],
   "source": [
    "import numpy as np\n",
    "import matplotlib.pyplot as plt\n",
    "import os"
   ]
  },
  {
   "cell_type": "code",
   "execution_count": 2,
   "id": "d4e9161f",
   "metadata": {},
   "outputs": [],
   "source": [
    "def load_data(beta, i):\n",
    "    cwd = os.getcwd()\n",
    "\n",
    "    datafile = cwd + \"/data/beta\" + str(beta) + \"/cluster_beta\" + str(beta) + \"_client\" + str(i) + \".csv\" \n",
    "    labelfile = cwd + \"/data/beta\" + str(beta) + \"/labels_beta\" + str(beta) + \"_client\" + str(i) + \".csv\" \n",
    "    \n",
    "    data = np.genfromtxt(datafile, delimiter=',')\n",
    "    labels = np.genfromtxt(labelfile, delimiter=',') \n",
    "    \n",
    "    return data, labels\n",
    "\n",
    "def load_super_diag_data(i):\n",
    "    cwd = os.getcwd()\n",
    "\n",
    "    datafile = cwd + \"/data/super_diag/cluster_super_diag_beta1e-5_client\" + str(i) + \".csv\"\n",
    "    labelfile = cwd + \"/data/super_diag/labels_super_diag_beta1e-5_client\" + str(i) + \".csv\"\n",
    "    \n",
    "    data = np.genfromtxt(datafile, delimiter=',')\n",
    "    labels = np.genfromtxt(labelfile, delimiter=',') \n",
    "    \n",
    "    return data, labels\n",
    "\n",
    "def load_custer_wise_data(i):\n",
    "    cwd = os.getcwd()\n",
    "    \n",
    "    datafile = cwd + \"/data/cluster_wise_small/cluster_wise_client\" + str(i) + \".csv\"\n",
    "    labelfile = cwd + \"/data/cluster_wise_small/labels_cluster_wise_client\" + str(i) + \".csv\"\n",
    "    \n",
    "    data = np.genfromtxt(datafile, delimiter=',')\n",
    "    labels = np.genfromtxt(labelfile, delimiter=',') \n",
    "    \n",
    "    return data, labels"
   ]
  },
  {
   "cell_type": "code",
   "execution_count": 21,
   "id": "908d4bae",
   "metadata": {},
   "outputs": [],
   "source": [
    "def calc_dist(dset):\n",
    "    A = np.zeros((dset.shape[0], dset.shape[0]))\n",
    "    for i in range(dset.shape[0]):\n",
    "        A[i,:] = np.linalg.norm(dset[i, :] - dset, axis = 1)\n",
    "        \n",
    "    return A"
   ]
  },
  {
   "cell_type": "code",
   "execution_count": 64,
   "id": "fca744d4",
   "metadata": {},
   "outputs": [],
   "source": [
    "stand_dsets = [load_data(1, i)[0] for i in range(5)]\n",
    "\n",
    "A = calc_dist(stand_dsets[0])\n",
    "\n",
    "md1 = np.mean(A)\n",
    "s1 = np.var(A, axis = 0)\n",
    "ms1 = np.mean(s1)\n",
    "\n",
    "v1 = np.var(stand_dsets[0], axis = 0)\n"
   ]
  },
  {
   "cell_type": "code",
   "execution_count": 66,
   "id": "bc145f04",
   "metadata": {},
   "outputs": [
    {
     "data": {
      "text/plain": [
       "0.4843761453962331"
      ]
     },
     "execution_count": 66,
     "metadata": {},
     "output_type": "execute_result"
    }
   ],
   "source": [
    "md1/ms1"
   ]
  },
  {
   "cell_type": "code",
   "execution_count": 67,
   "id": "6e909510",
   "metadata": {},
   "outputs": [],
   "source": [
    "super_diag_dsets = [load_super_diag_data(i)[0] for i in range(5)]\n",
    "\n",
    "Asd = calc_dist(super_diag_dsets[0])\n",
    "\n",
    "md2 = np.mean(Asd)\n",
    "s2 = np.var(Asd, axis = 0)\n",
    "ms2 = np.mean(s2)\n",
    "\n",
    "v2 = np.var(super_diag_dsets[0], axis = 0)"
   ]
  },
  {
   "cell_type": "code",
   "execution_count": 68,
   "id": "8967ef86",
   "metadata": {},
   "outputs": [
    {
     "data": {
      "text/plain": [
       "0.21055055087791033"
      ]
     },
     "execution_count": 68,
     "metadata": {},
     "output_type": "execute_result"
    }
   ],
   "source": [
    "md2/ms2"
   ]
  },
  {
   "cell_type": "code",
   "execution_count": 45,
   "id": "019e5399",
   "metadata": {},
   "outputs": [
    {
     "data": {
      "text/plain": [
       "(16.04217019100367, array([20.79105862, 20.38459615]))"
      ]
     },
     "execution_count": 45,
     "metadata": {},
     "output_type": "execute_result"
    }
   ],
   "source": [
    "ms1, v1"
   ]
  },
  {
   "cell_type": "code",
   "execution_count": 56,
   "id": "7fc98854",
   "metadata": {},
   "outputs": [
    {
     "data": {
      "text/plain": [
       "11.469769850913677"
      ]
     },
     "execution_count": 56,
     "metadata": {},
     "output_type": "execute_result"
    }
   ],
   "source": [
    "stand_dsets[0].shape[0]/ms1"
   ]
  },
  {
   "cell_type": "code",
   "execution_count": 49,
   "id": "b04355af",
   "metadata": {},
   "outputs": [
    {
     "data": {
      "text/plain": [
       "(57.3516429215982, array([68.4289338 , 45.28274014]))"
      ]
     },
     "execution_count": 49,
     "metadata": {},
     "output_type": "execute_result"
    }
   ],
   "source": [
    "ms2, v2"
   ]
  },
  {
   "cell_type": "code",
   "execution_count": 54,
   "id": "de083bba",
   "metadata": {},
   "outputs": [
    {
     "data": {
      "text/plain": [
       "1.987737302588562"
      ]
     },
     "execution_count": 54,
     "metadata": {},
     "output_type": "execute_result"
    }
   ],
   "source": [
    "super_diag_dsets[0].shape[0]/ms2"
   ]
  },
  {
   "cell_type": "code",
   "execution_count": 26,
   "id": "6b506ad4",
   "metadata": {},
   "outputs": [
    {
     "data": {
      "text/plain": [
       "True"
      ]
     },
     "execution_count": 26,
     "metadata": {},
     "output_type": "execute_result"
    }
   ],
   "source": [
    "np.allclose(A, A.T)"
   ]
  }
 ],
 "metadata": {
  "kernelspec": {
   "display_name": "Python 3 (ipykernel)",
   "language": "python",
   "name": "python3"
  },
  "language_info": {
   "codemirror_mode": {
    "name": "ipython",
    "version": 3
   },
   "file_extension": ".py",
   "mimetype": "text/x-python",
   "name": "python",
   "nbconvert_exporter": "python",
   "pygments_lexer": "ipython3",
   "version": "3.7.10"
  }
 },
 "nbformat": 4,
 "nbformat_minor": 5
}
