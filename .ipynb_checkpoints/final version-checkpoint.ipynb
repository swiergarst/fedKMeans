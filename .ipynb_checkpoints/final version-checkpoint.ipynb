{
 "cells": [
  {
   "cell_type": "code",
   "execution_count": 2,
   "id": "e7f1ca25",
   "metadata": {},
   "outputs": [],
   "source": [
    "import numpy as np\n",
    "import os\n",
    "import matplotlib.pyplot as plt\n",
    "import math\n",
    "from sklearn.cluster import KMeans\n",
    "from sklearn.cluster import kmeans_plusplus\n",
    "from sklearn.metrics.cluster import rand_score, adjusted_rand_score\n",
    "from matplotlib import cm\n",
    "\n",
    "def warn(*args, **kwargs):\n",
    "    pass\n",
    "import warnings\n",
    "warnings.warn = warn"
   ]
  },
  {
   "cell_type": "markdown",
   "id": "5e530232",
   "metadata": {},
   "source": [
    "## Classes and functions"
   ]
  },
  {
   "cell_type": "code",
   "execution_count": 1,
   "id": "bc1587cf",
   "metadata": {},
   "outputs": [],
   "source": [
    "# this is basically everything that happens 'client-side'\n",
    "class client():\n",
    "    def __init__(self, data, labels, n_centroids):\n",
    "        self.data = data\n",
    "        self.labels = labels #ground-truth labels; purely used for validation\n",
    "        #self.n_centroids = n_centroids\n",
    "        self.means = np.zeros((n_centroids, 2))\n",
    "        self.n_c_local = 0\n",
    "    def predict_means(self, r, global_centers):\n",
    "        \n",
    "        # no global centers in first iteration yet, so just take our own initialization\n",
    "        if r == 0:\n",
    "            local_centers = self.means\n",
    "        else:    \n",
    "            local_centers = self.det_new_local_centers(global_centers)\n",
    "            #print(local_centers.shape)\n",
    "        km = KMeans(n_clusters = self.n_c_local, init = local_centers, max_iter = 1).fit(self.data)\n",
    "        mean_vals = np.copy(km.cluster_centers_)\n",
    "        self.means = np.copy(km.cluster_centers_)\n",
    "        samples = self.calc_cluster_amts(km)\n",
    "\n",
    "        # safety check in case we send a single sample values back as a mean\n",
    "        inds = np.where(samples == 1)\n",
    "        mask = np.ones_like(samples, dtype = bool)\n",
    "        mask[inds] = False\n",
    "        samples = samples[mask]\n",
    "        mean_vals = mean_vals[mask]\n",
    "\n",
    "        score = adjusted_rand_score(self.labels, km.labels_)\n",
    "\n",
    "        return mean_vals, score, samples\n",
    "                                \n",
    "    def calc_cluster_amts(self, km):\n",
    "        return np.array([len(km.labels_[km.labels_ == i]) for i in range(self.n_c_local)])\n",
    "        \n",
    "    def det_new_local_centers(self, global_centers):\n",
    "        #simple option: calculate distances from data mean\n",
    "        \n",
    "        dmean = np.mean(self.data, axis = 0)\n",
    "        #print(global_centers, dmean)\n",
    "        dists = np.linalg.norm(global_centers - dmean, axis = 1)\n",
    "        dist_inds = np.argsort(dists)\n",
    "        \n",
    "        gcenter_mat = np.array([global_centers for i in range(self.n_c_local)])\n",
    "        \n",
    "        \n",
    "        # calculate distances between old and new clusters\n",
    "        distMat = np.sum((global_centers[:, None,:] - self.means[None,:,:])**2, -1)\n",
    "        \n",
    "        #print(distMat.shape, self.n_c_local)\n",
    "        \n",
    "        selected_means = np.zeros((self.n_c_local, 2))\n",
    "        #select the n_c_local amount of clusters from the global clusters\n",
    "        inds_log = []\n",
    "        for i in range(distMat.shape[1]):\n",
    "            ind = np.argmin(distMat[:,i])\n",
    "            selected_means[i,:] = global_centers[ind,:]\n",
    "            distMat[ind, :] = 100000000\n",
    "        #lcenter_mat = np.array([self.means for i in range(global_centers.shape[0])])\n",
    "        \n",
    "        #print(\"centers selected with mean: \", dist_inds[0:self.n_c_local])\n",
    "        #print(\"centres selected with cluster distance: \", )\n",
    "        #return global_centers[dist_inds[0:self.n_c_local]]\n",
    "        return selected_means\n",
    "  \n",
    "    \n",
    "    def calc_cluster_distance(self, local_clusters):\n",
    "        # output: a n-1 by n-1 array of distances (could make it n by n with diagonal 0)\n",
    "        a = np.zeros((local_clusters.shape[0], local_clusters.shape[0]))\n",
    "        # this is super unoptimized but w/e\n",
    "        for i in range(local_clusters.shape[0]):\n",
    "            for j in range(local_clusters.shape[0]):\n",
    "                a[i,j] = np.linalg.norm(local_clusters[i,:] -  local_clusters[j,:])\n",
    "        return a   \n",
    "    \n",
    "    def init_local_clusters(self, n_cluster_g, thr):\n",
    "    #def init_local_clusters(self, n_cluster_g, alpha, xmin, xmax, ymin, ymax):\n",
    "        #pre_threshold = math.sqrt(((xmin - xmax) * (ymin - ymax))) / n_cluster_g\n",
    "        #thr = pre_threshold * alpha\n",
    "        #thr = 5\n",
    "        #print(thr)\n",
    "        local_cluster_amt = n_cluster_g\n",
    "        #thr = 1.5625\n",
    "        for j in range(n_cluster_g - 1):\n",
    "                clusters_l, _  = kmeans_plusplus(self.data, local_cluster_amt)\n",
    "                a = self.calc_cluster_distance(clusters_l)\n",
    "                if (a<thr).sum() > local_cluster_amt:\n",
    "                    local_cluster_amt -= 1\n",
    "                else:\n",
    "                    break\n",
    "        self.n_c_local = local_cluster_amt         \n",
    "        local_clusters, _ = kmeans_plusplus(self.data, local_cluster_amt)\n",
    "        self.means = local_clusters\n",
    "        \n",
    "        return local_clusters\n",
    "    \n",
    "    def det_var(self):\n",
    "        mean = np.mean(self.data, axis = 0)\n",
    "        mean2 = np.mean(self.data**2, axis = 0)\n",
    "        s = self.data.shape[0]\n",
    "        \n",
    "        return(mean, mean2, s)"
   ]
  },
  {
   "cell_type": "code",
   "execution_count": 2,
   "id": "64303993",
   "metadata": {},
   "outputs": [],
   "source": [
    "#'server-side' implementation\n",
    "class server():\n",
    "    def __init__(self, n_clusters):\n",
    "        self.n_clusters = n_clusters\n",
    "            \n",
    "    def aggregate(self, means, samples):\n",
    "        \n",
    "        cluster_aggregator = KMeans(n_clusters = self.n_clusters)\n",
    "        avg_means = np.zeros((self.n_clusters, 2))\n",
    "        \n",
    "        means_res = means.reshape((-1,2))\n",
    "        #cluster_aggregator.fit(means_res, sample_weight =  samples.reshape(-1))\n",
    "        cluster_aggregator.fit(means_res, sample_weight = samples)\n",
    "        \n",
    "        return cluster_aggregator.cluster_centers_\n",
    "                         \n",
    "    \n",
    "    def det_t(self, means, means2, s):\n",
    "        var = self.det_global_var(means, means2, s)\n",
    "        \n",
    "        std = np.sqrt(var)\n",
    "    \n",
    "        #print(std* 2)\n",
    "        print(std)\n",
    "        t = (np.prod(std * 2 )/ (self.n_clusters))**0.5\n",
    "        return t\n",
    "    \n",
    "    def det_global_var(self, means, means2, s):\n",
    "        \n",
    "        # weighted average for both means and means squared\n",
    "        s_tot = np.sum(s)\n",
    "        means_tot = np.sum(s * means, axis = 0) / s_tot\n",
    "        means2_tot = np.sum(s * means2, axis = 0) / s_tot\n",
    "        \n",
    "        var = means2_tot - means_tot**2\n",
    "        return var"
   ]
  },
  {
   "cell_type": "code",
   "execution_count": 3,
   "id": "e2289f32",
   "metadata": {},
   "outputs": [],
   "source": [
    "def run_var(clients, server):\n",
    "    # request values, save in arrays\n",
    "    samples = np.zeros((len(clients), 1))\n",
    "    means = np.zeros((len(clients), 2))\n",
    "    means2 = np.zeros_like(means)\n",
    "    for client_i, client in enumerate(clients):\n",
    "        means[client_i,:] , means2[client_i, :], samples[client_i,:] = client.det_var()\n",
    "              \n",
    "    var = server.det_global_var(means, means2, samples)\n",
    "    print(var)\n",
    "    #print(meanC.shape)\n",
    "    t = server.det_t(means, means2, samples)\n",
    "\n",
    "    \n",
    "\n",
    "    return t"
   ]
  },
  {
   "cell_type": "code",
   "execution_count": 4,
   "id": "1eba2af6",
   "metadata": {},
   "outputs": [],
   "source": [
    "#to run everything smoothly\n",
    "#def run(clients, server, crounds, nclients, n_cluster_global , alpha, Xmin, Xmax, Ymin, Ymax):\n",
    "\n",
    "def run(clients, server, crounds, nclients, n_cluster_global, t = None):# , alpha, Xmin, Xmax, Ymin, Ymax):\n",
    "\n",
    "    #initialize: determine global variance, use to calculate t \n",
    "    samples = np.zeros((len(clients), 1))\n",
    "    means = np.zeros((len(clients), 2))\n",
    "    means2 = np.zeros_like(means)\n",
    "    for client_i, client in enumerate(clients):\n",
    "        means[client_i,:] , means2[client_i, :], samples[client_i,:] = client.det_var()\n",
    "      \n",
    "    if t == None:\n",
    "        t = server.det_t(means, means2, samples)\n",
    "\n",
    "        \n",
    "    #print(t)\n",
    "    #var = server.det_global_var(means, means2, samples)\n",
    "    \n",
    "    \n",
    "    #initialize: determine local amount of clusters, and give initial local cluster means\n",
    "    for client_i, client in enumerate(clients):\n",
    "\n",
    "        #client.init_local_clusters(n_cluster_global, alpha, Xmin, Xmax, Ymin, Ymax)\n",
    "        client.init_local_clusters(n_cluster_global, t)\n",
    "        #print(client.n_c_local)\n",
    "        ''''\n",
    "        init_clusters_local = cl\n",
    "        if client_i == 0:,\n",
    "            init_clusters = init_clusters_local\n",
    "        else:\n",
    "            init_clusters = np.concatenate((init_clusters, init_clusters_local))\n",
    "        #print(init_clusters_local.shape)\n",
    "    '''\n",
    "    #local_clusters = init_clusters\n",
    "    #samples = np.ones(local_clusters.shape[0])\n",
    "\n",
    "    scores = np.zeros((len(clients), crounds))\n",
    "    global_clusters = None\n",
    "    # communication loop\n",
    "    for r in range(crounds):\n",
    "        # central aggregation\n",
    "                #local cluster selection and kmeans\n",
    "        for client_i, client in enumerate(clients):\n",
    "            # this function first determines which global clusters to select, and then does local kmeans with those\n",
    "            local_cluster, scores[client_i, r], sample = client.predict_means(r, global_clusters)\n",
    "\n",
    "            #print(local_cluster.shape)\n",
    "            #client concatenation 'at the server'\n",
    "            if client_i == 0:\n",
    "                local_clusters = local_cluster\n",
    "                samples = sample\n",
    "            else:\n",
    "                local_clusters = np.concatenate((local_clusters, local_cluster), axis = 0)\n",
    "                samples = np.concatenate((samples, sample), axis = 0)\n",
    "                \n",
    "        global_clusters = server.aggregate(local_clusters, samples)\n",
    "        \n",
    "\n",
    "        #print(local_clusters.shape, samples.shape)\n",
    "    #One final aggregation\n",
    "    global_clusters =  server.aggregate(local_clusters, samples)\n",
    "    \n",
    "    return global_clusters, scores"
   ]
  },
  {
   "cell_type": "markdown",
   "id": "d906948e",
   "metadata": {},
   "source": [
    "## Loading data"
   ]
  },
  {
   "cell_type": "code",
   "execution_count": 5,
   "id": "1fd6544b",
   "metadata": {},
   "outputs": [],
   "source": [
    "def load_diag_data(beta, i):\n",
    "    cwd = os.getcwd()\n",
    "\n",
    "    datafile = cwd + \"/data/diag/beta\" + str(beta) + \"/cluster_diag_beta\" + str(beta) + \"_client\" + str(i) + \".csv\" \n",
    "    labelfile = cwd + \"/data/diag/beta\" + str(beta) + \"/labels_diag_beta\" + str(beta) + \"_client\" + str(i) + \".csv\" \n",
    "    \n",
    "    data = np.genfromtxt(datafile, delimiter=',')\n",
    "    labels = np.genfromtxt(labelfile, delimiter=',') \n",
    "    \n",
    "    return data, labels"
   ]
  },
  {
   "cell_type": "code",
   "execution_count": 6,
   "id": "4358ca3b",
   "metadata": {},
   "outputs": [],
   "source": [
    "def load_data(beta, i):\n",
    "    cwd = os.getcwd()\n",
    "\n",
    "    datafile = cwd + \"/data/beta\" + str(beta) + \"/cluster_beta\" + str(beta) + \"_client\" + str(i) + \".csv\" \n",
    "    labelfile = cwd + \"/data/beta\" + str(beta) + \"/labels_beta\" + str(beta) + \"_client\" + str(i) + \".csv\" \n",
    "    \n",
    "    data = np.genfromtxt(datafile, delimiter=',')\n",
    "    labels = np.genfromtxt(labelfile, delimiter=',') \n",
    "    \n",
    "    return data, labels"
   ]
  },
  {
   "cell_type": "code",
   "execution_count": 7,
   "id": "2837ccf1",
   "metadata": {},
   "outputs": [],
   "source": [
    "def load_super_diag_data(i):\n",
    "    cwd = os.getcwd()\n",
    "\n",
    "    datafile = cwd + \"/data/super_diag/cluster_super_diag_beta1e-5_client\" + str(i) + \".csv\"\n",
    "    labelfile = cwd + \"/data/super_diag/labels_super_diag_beta1e-5_client\" + str(i) + \".csv\"\n",
    "    \n",
    "    data = np.genfromtxt(datafile, delimiter=',')\n",
    "    labels = np.genfromtxt(labelfile, delimiter=',') \n",
    "    \n",
    "    return data, labels"
   ]
  },
  {
   "cell_type": "code",
   "execution_count": 8,
   "id": "d5708720",
   "metadata": {},
   "outputs": [],
   "source": [
    "def load_full_data(beta):\n",
    "    cwd = os.getcwd()\n",
    "\n",
    "    #this one will be used for assigning data to a client\n",
    "    datafiles = [cwd + \"/data/beta\" + str(beta) + \"/cluster_beta\" + str(beta) + \"_client\" + str(i) + \".csv\" for i in range(5)]\n",
    "    labelfiles = [cwd + \"/data/beta\" + str(beta) + \"/labels_beta\" + str(beta) + \"_client\" + str(i) + \".csv\" for i in range(5)]\n",
    "    \n",
    "    #create full dataset for comparison\n",
    "    for i, file in enumerate(datafiles):\n",
    "        data = np.genfromtxt(datafiles[i], delimiter=',')\n",
    "        labels = np.genfromtxt(labelfiles[i], delimiter=',')\n",
    "        #print(data.shape)\n",
    "        if i == 0:\n",
    "            data_full = data\n",
    "            labels_full = labels\n",
    "        else:\n",
    "            data_full = np.concatenate((data, data_full), axis = 0)\n",
    "            labels_full = np.concatenate((labels, labels_full), axis=0)\n",
    "\n",
    "    return data_full, labels_full"
   ]
  },
  {
   "cell_type": "code",
   "execution_count": 9,
   "id": "29e95b6b",
   "metadata": {},
   "outputs": [],
   "source": [
    "def load_full_diag_data(beta):\n",
    "    cwd = os.getcwd()\n",
    "\n",
    "    #this one will be used for assigning data to a client\n",
    "    datafiles = [cwd + \"/data/diag/beta\" + str(beta) + \"/cluster_diag_beta\" + str(beta) + \"_client\" + str(i) + \".csv\" for i in range(5)] \n",
    "    labelfiles = [cwd + \"/data/diag/beta\" + str(beta) + \"/labels_diag_beta\" + str(beta) + \"_client\" + str(i) + \".csv\" for i in range(5)]\n",
    "        \n",
    "    #create full dataset for comparison\n",
    "    for i, file in enumerate(datafiles):\n",
    "        data = np.genfromtxt(datafiles[i], delimiter=',')\n",
    "        labels = np.genfromtxt(labelfiles[i], delimiter=',')\n",
    "        #print(data.shape)\n",
    "        if i == 0:\n",
    "            data_full = data\n",
    "            labels_full = labels\n",
    "        else:\n",
    "            data_full = np.concatenate((data, data_full), axis = 0)\n",
    "            labels_full = np.concatenate((labels, labels_full), axis=0)\n",
    "\n",
    "    return data_full, labels_full"
   ]
  },
  {
   "cell_type": "code",
   "execution_count": 10,
   "id": "6d22d0bb",
   "metadata": {},
   "outputs": [],
   "source": [
    "def load_full_super_diag_data():\n",
    "    cwd = os.getcwd()\n",
    "\n",
    "    #this one will be used for assigning data to a client\n",
    "    datafiles = [cwd + \"/data/super_diag/cluster_super_diag_beta1e-5_client\" + str(i) + \".csv\" for i in range(5)] \n",
    "    labelfiles = [cwd + \"/data/super_diag/labels_super_diag_beta1e-5_client\" + str(i) + \".csv\" for i in range(5)]\n",
    "        \n",
    "    #create full dataset for comparison\n",
    "    for i, file in enumerate(datafiles):\n",
    "        data = np.genfromtxt(datafiles[i], delimiter=',')\n",
    "        labels = np.genfromtxt(labelfiles[i], delimiter=',')\n",
    "        #print(data.shape)\n",
    "        if i == 0:\n",
    "            data_full = data\n",
    "            labels_full = labels\n",
    "        else:\n",
    "            data_full = np.concatenate((data, data_full), axis = 0)\n",
    "            labels_full = np.concatenate((labels, labels_full), axis=0)\n",
    "\n",
    "    return data_full, labels_full"
   ]
  },
  {
   "cell_type": "code",
   "execution_count": 73,
   "id": "4122a9c3",
   "metadata": {
    "collapsed": true
   },
   "outputs": [
    {
     "ename": "OSError",
     "evalue": "/home/swier/Documents/clustering fl/data/beta10/cluster_client0.csv not found.",
     "output_type": "error",
     "traceback": [
      "\u001b[0;31m---------------------------------------------------------------------------\u001b[0m",
      "\u001b[0;31mOSError\u001b[0m                                   Traceback (most recent call last)",
      "\u001b[0;32m<ipython-input-73-90e43761eab3>\u001b[0m in \u001b[0;36m<module>\u001b[0;34m\u001b[0m\n\u001b[1;32m      8\u001b[0m \u001b[0;31m#create full dataset for comparison\u001b[0m\u001b[0;34m\u001b[0m\u001b[0;34m\u001b[0m\u001b[0;34m\u001b[0m\u001b[0m\n\u001b[1;32m      9\u001b[0m \u001b[0;32mfor\u001b[0m \u001b[0mi\u001b[0m\u001b[0;34m,\u001b[0m \u001b[0mfile\u001b[0m \u001b[0;32min\u001b[0m \u001b[0menumerate\u001b[0m\u001b[0;34m(\u001b[0m\u001b[0mdatafiles\u001b[0m\u001b[0;34m)\u001b[0m\u001b[0;34m:\u001b[0m\u001b[0;34m\u001b[0m\u001b[0;34m\u001b[0m\u001b[0m\n\u001b[0;32m---> 10\u001b[0;31m     \u001b[0mdata\u001b[0m \u001b[0;34m=\u001b[0m \u001b[0mnp\u001b[0m\u001b[0;34m.\u001b[0m\u001b[0mgenfromtxt\u001b[0m\u001b[0;34m(\u001b[0m\u001b[0mfile\u001b[0m\u001b[0;34m,\u001b[0m \u001b[0mdelimiter\u001b[0m\u001b[0;34m=\u001b[0m\u001b[0;34m','\u001b[0m\u001b[0;34m)\u001b[0m\u001b[0;34m\u001b[0m\u001b[0;34m\u001b[0m\u001b[0m\n\u001b[0m\u001b[1;32m     11\u001b[0m     \u001b[0mlabels\u001b[0m \u001b[0;34m=\u001b[0m \u001b[0mnp\u001b[0m\u001b[0;34m.\u001b[0m\u001b[0mgenfromtxt\u001b[0m\u001b[0;34m(\u001b[0m\u001b[0mfile\u001b[0m\u001b[0;34m,\u001b[0m \u001b[0mdelimiter\u001b[0m\u001b[0;34m=\u001b[0m\u001b[0;34m','\u001b[0m\u001b[0;34m)\u001b[0m\u001b[0;34m\u001b[0m\u001b[0;34m\u001b[0m\u001b[0m\n\u001b[1;32m     12\u001b[0m     \u001b[0;31m#print(data.shape)\u001b[0m\u001b[0;34m\u001b[0m\u001b[0;34m\u001b[0m\u001b[0;34m\u001b[0m\u001b[0m\n",
      "\u001b[0;32m~/miniconda3/envs/vantage6/lib/python3.7/site-packages/numpy/lib/npyio.py\u001b[0m in \u001b[0;36mgenfromtxt\u001b[0;34m(fname, dtype, comments, delimiter, skip_header, skip_footer, converters, missing_values, filling_values, usecols, names, excludelist, deletechars, replace_space, autostrip, case_sensitive, defaultfmt, unpack, usemask, loose, invalid_raise, max_rows, encoding)\u001b[0m\n\u001b[1;32m   1747\u001b[0m             \u001b[0mfname\u001b[0m \u001b[0;34m=\u001b[0m \u001b[0mos_fspath\u001b[0m\u001b[0;34m(\u001b[0m\u001b[0mfname\u001b[0m\u001b[0;34m)\u001b[0m\u001b[0;34m\u001b[0m\u001b[0;34m\u001b[0m\u001b[0m\n\u001b[1;32m   1748\u001b[0m         \u001b[0;32mif\u001b[0m \u001b[0misinstance\u001b[0m\u001b[0;34m(\u001b[0m\u001b[0mfname\u001b[0m\u001b[0;34m,\u001b[0m \u001b[0mstr\u001b[0m\u001b[0;34m)\u001b[0m\u001b[0;34m:\u001b[0m\u001b[0;34m\u001b[0m\u001b[0;34m\u001b[0m\u001b[0m\n\u001b[0;32m-> 1749\u001b[0;31m             \u001b[0mfid\u001b[0m \u001b[0;34m=\u001b[0m \u001b[0mnp\u001b[0m\u001b[0;34m.\u001b[0m\u001b[0mlib\u001b[0m\u001b[0;34m.\u001b[0m\u001b[0m_datasource\u001b[0m\u001b[0;34m.\u001b[0m\u001b[0mopen\u001b[0m\u001b[0;34m(\u001b[0m\u001b[0mfname\u001b[0m\u001b[0;34m,\u001b[0m \u001b[0;34m'rt'\u001b[0m\u001b[0;34m,\u001b[0m \u001b[0mencoding\u001b[0m\u001b[0;34m=\u001b[0m\u001b[0mencoding\u001b[0m\u001b[0;34m)\u001b[0m\u001b[0;34m\u001b[0m\u001b[0;34m\u001b[0m\u001b[0m\n\u001b[0m\u001b[1;32m   1750\u001b[0m             \u001b[0mfid_ctx\u001b[0m \u001b[0;34m=\u001b[0m \u001b[0mcontextlib\u001b[0m\u001b[0;34m.\u001b[0m\u001b[0mclosing\u001b[0m\u001b[0;34m(\u001b[0m\u001b[0mfid\u001b[0m\u001b[0;34m)\u001b[0m\u001b[0;34m\u001b[0m\u001b[0;34m\u001b[0m\u001b[0m\n\u001b[1;32m   1751\u001b[0m         \u001b[0;32melse\u001b[0m\u001b[0;34m:\u001b[0m\u001b[0;34m\u001b[0m\u001b[0;34m\u001b[0m\u001b[0m\n",
      "\u001b[0;32m~/miniconda3/envs/vantage6/lib/python3.7/site-packages/numpy/lib/_datasource.py\u001b[0m in \u001b[0;36mopen\u001b[0;34m(path, mode, destpath, encoding, newline)\u001b[0m\n\u001b[1;32m    193\u001b[0m \u001b[0;34m\u001b[0m\u001b[0m\n\u001b[1;32m    194\u001b[0m     \u001b[0mds\u001b[0m \u001b[0;34m=\u001b[0m \u001b[0mDataSource\u001b[0m\u001b[0;34m(\u001b[0m\u001b[0mdestpath\u001b[0m\u001b[0;34m)\u001b[0m\u001b[0;34m\u001b[0m\u001b[0;34m\u001b[0m\u001b[0m\n\u001b[0;32m--> 195\u001b[0;31m     \u001b[0;32mreturn\u001b[0m \u001b[0mds\u001b[0m\u001b[0;34m.\u001b[0m\u001b[0mopen\u001b[0m\u001b[0;34m(\u001b[0m\u001b[0mpath\u001b[0m\u001b[0;34m,\u001b[0m \u001b[0mmode\u001b[0m\u001b[0;34m,\u001b[0m \u001b[0mencoding\u001b[0m\u001b[0;34m=\u001b[0m\u001b[0mencoding\u001b[0m\u001b[0;34m,\u001b[0m \u001b[0mnewline\u001b[0m\u001b[0;34m=\u001b[0m\u001b[0mnewline\u001b[0m\u001b[0;34m)\u001b[0m\u001b[0;34m\u001b[0m\u001b[0;34m\u001b[0m\u001b[0m\n\u001b[0m\u001b[1;32m    196\u001b[0m \u001b[0;34m\u001b[0m\u001b[0m\n\u001b[1;32m    197\u001b[0m \u001b[0;34m\u001b[0m\u001b[0m\n",
      "\u001b[0;32m~/miniconda3/envs/vantage6/lib/python3.7/site-packages/numpy/lib/_datasource.py\u001b[0m in \u001b[0;36mopen\u001b[0;34m(self, path, mode, encoding, newline)\u001b[0m\n\u001b[1;32m    533\u001b[0m                                       encoding=encoding, newline=newline)\n\u001b[1;32m    534\u001b[0m         \u001b[0;32melse\u001b[0m\u001b[0;34m:\u001b[0m\u001b[0;34m\u001b[0m\u001b[0;34m\u001b[0m\u001b[0m\n\u001b[0;32m--> 535\u001b[0;31m             \u001b[0;32mraise\u001b[0m \u001b[0mIOError\u001b[0m\u001b[0;34m(\u001b[0m\u001b[0;34m\"%s not found.\"\u001b[0m \u001b[0;34m%\u001b[0m \u001b[0mpath\u001b[0m\u001b[0;34m)\u001b[0m\u001b[0;34m\u001b[0m\u001b[0;34m\u001b[0m\u001b[0m\n\u001b[0m\u001b[1;32m    536\u001b[0m \u001b[0;34m\u001b[0m\u001b[0m\n\u001b[1;32m    537\u001b[0m \u001b[0;34m\u001b[0m\u001b[0m\n",
      "\u001b[0;31mOSError\u001b[0m: /home/swier/Documents/clustering fl/data/beta10/cluster_client0.csv not found."
     ]
    }
   ],
   "source": [
    "# read datasets, create one full dataset for central baseline as well\n",
    "cwd = os.getcwd()\n",
    "\n",
    "#this one will be used for assigning data to a client\n",
    "datafiles = [cwd + \"/data/beta\" + str(beta) +\"/cluster_client\" + str(i) + \".csv\" for i in range(5)] \n",
    "labelfiles = [cwd + \"/data/beta\" + str(beta) +\"/labels_client\" + str(i) + \".csv\" for i in range(5)]\n",
    "\n",
    "#create full dataset for comparison\n",
    "for i, file in enumerate(datafiles):\n",
    "    data = np.genfromtxt(datafiles[i], delimiter=',')\n",
    "    labels = np.genfromtxt(labelfiles[i], delimiter=',')\n",
    "    #print(data.shape)\n",
    "    if i == 0:\n",
    "        data_full = data\n",
    "        labels_full = labels\n",
    "    else:\n",
    "        data_full = np.concatenate((data, data_full), axis = 0)\n",
    "        labels_full = np.concatenate((labels, labels_full), axis=0)"
   ]
  },
  {
   "cell_type": "markdown",
   "id": "b644ab37",
   "metadata": {},
   "source": [
    "## Federated run"
   ]
  },
  {
   "cell_type": "code",
   "execution_count": 49,
   "id": "1e4689ff",
   "metadata": {
    "scrolled": true
   },
   "outputs": [
    {
     "name": "stdout",
     "output_type": "stream",
     "text": [
      "[9.70187403 8.66344702]\n",
      "[9.70187403 8.66344702]\n",
      "[9.70187403 8.66344702]\n",
      "[9.70187403 8.66344702]\n",
      "[9.70187403 8.66344702]\n",
      "[9.70187403 8.66344702]\n",
      "[9.70187403 8.66344702]\n",
      "[9.70187403 8.66344702]\n",
      "[9.70187403 8.66344702]\n",
      "[9.70187403 8.66344702]\n"
     ]
    }
   ],
   "source": [
    "n_clients = 5\n",
    "n_cluster_global = 12\n",
    "crounds = 10\n",
    "n_runs = 10\n",
    "t = None\n",
    "\n",
    "full_scores = np.zeros((n_clients, n_runs))\n",
    "avg_scores = np.zeros((n_runs))\n",
    "all_means = np.zeros((n_cluster_global, 2, n_runs))\n",
    "\n",
    "# init clients and server\n",
    "#clients = [client(np.genfromtxt(datafiles[i], delimiter=','), np.genfromtxt(labelfiles[i], delimiter=','), n_cluster_global) for i in range(n_clients)]\n",
    "clients = []\n",
    "for i in range(n_clients):\n",
    "    data, labels = load_super_diag_data(i)\n",
    "    clients.append(client(data, labels, n_cluster_global))\n",
    "\n",
    "server_obj = server(n_cluster_global)\n",
    "\n",
    "\n",
    "for r in range(n_runs):\n",
    "    means_federated, scores = run(clients, server_obj, crounds, n_clients, n_cluster_global, t = t)#, alpha, Xmin, Xmax, Ymin, Ymax)\n",
    "    full_scores[:,r] = scores[:,-1] #only save ARI from last round\n",
    "    all_means[:,:,r] = means_federated\n",
    "\n",
    "# calculate the (weighted) mean ARI for all clients combined\n",
    "tot_samples = 0\n",
    "#fed_mean = np.zeros(n_runs)\n",
    "for client_i, client_o in enumerate(clients):\n",
    "    n_s = len(client_o.labels)\n",
    "    avg_scores += n_s * full_scores[client_i, :]\n",
    "    tot_samples += n_s\n",
    "\n",
    "avg_scores[:] /= tot_samples"
   ]
  },
  {
   "cell_type": "code",
   "execution_count": 44,
   "id": "2c993414",
   "metadata": {
    "scrolled": true
   },
   "outputs": [
    {
     "data": {
      "text/plain": [
       "0.9769177531666633"
      ]
     },
     "execution_count": 44,
     "metadata": {},
     "output_type": "execute_result"
    }
   ],
   "source": [
    "np.mean(avg_scores)"
   ]
  },
  {
   "cell_type": "code",
   "execution_count": 30,
   "id": "9c51bc6e",
   "metadata": {
    "scrolled": true
   },
   "outputs": [
    {
     "data": {
      "image/png": "[encoded data removed]",
      "text/plain": [
       "<Figure size 432x288 with 1 Axes>"
      ]
     },
     "metadata": {
      "needs_background": "light"
     },
     "output_type": "display_data"
    }
   ],
   "source": [
    "true_means = np.array([(-20, 20), (-10, 10), (-15, 5), (0, 0),(0, -5), (0, -10), (5, -5), (5, 0), (5, -10), (10, 0), (10, -5), (10, -10)])\n",
    "full_super_diag_data, _ = load_full_super_diag_data()\n",
    "plot_federated(full_super_diag_data, true_means, all_means[:,:,0])"
   ]
  },
  {
   "cell_type": "code",
   "execution_count": 55,
   "id": "6b818b1a",
   "metadata": {},
   "outputs": [],
   "source": [
    "n_clients = 5\n",
    "n_cluster_global = 17\n",
    "crounds = 20\n",
    "n_runs = 10\n",
    "#betas = [0.1, 1, 10]\n",
    "betas = [1]\n",
    "\n",
    "full_scores = np.zeros((n_clients, n_runs, len(betas)))\n",
    "avg_scores = np.zeros((n_runs, len(betas)))\n",
    "all_means = np.zeros((n_cluster_global, 2, n_runs, len(betas)))\n",
    "for beta_i, beta in enumerate(betas):\n",
    "    # init clients and server\n",
    "    #clients = [client(np.genfromtxt(datafiles[i], delimiter=','), np.genfromtxt(labelfiles[i], delimiter=','), n_cluster_global) for i in range(n_clients)]\n",
    "    clients = []\n",
    "    for i in range(n_clients):\n",
    "        data, labels = load_diag_data(beta, i)\n",
    "        clients.append(client(data, labels, n_cluster_global))\n",
    "\n",
    "    server_obj = server(n_cluster_global)\n",
    "\n",
    "\n",
    "    for r in range(n_runs):\n",
    "        means_federated, scores = run(clients, server_obj, crounds, n_clients, n_cluster_global)#, alpha, Xmin, Xmax, Ymin, Ymax)\n",
    "        full_scores[:,r, beta_i] = scores[:,-1] #only save ARI from last round\n",
    "        all_means[:,:,r, beta_i] = means_federated\n",
    "\n",
    "    # calculate the (weighted) mean ARI for all clients combined\n",
    "    tot_samples = 0\n",
    "    #fed_mean = np.zeros(n_runs)\n",
    "    for client_i, client_o in enumerate(clients):\n",
    "        n_s = len(client_o.labels)\n",
    "        avg_scores[:,beta_i] += n_s * full_scores[client_i, :, beta_i]\n",
    "        tot_samples += n_s\n",
    "\n",
    "    avg_scores[:,beta_i] /= tot_samples"
   ]
  },
  {
   "cell_type": "code",
   "execution_count": 11,
   "id": "f96e8a4d",
   "metadata": {},
   "outputs": [],
   "source": [
    "def plot_federated(data_full, means_true, means_est):\n",
    "        # make an extra 'kmeans' object for visualization\n",
    "\n",
    "    server_kmeans = KMeans(n_clusters=17).fit(data_full) #need fit before predict (small hack)\n",
    "    server_kmeans.cluster_centers_ = np.copy(means_est)# overwrite the 'fit' results\n",
    "\n",
    "    predict_labels = server_kmeans.predict(data_full) #these are used for visualization\n",
    "\n",
    "    colors = ['b', 'g', 'c', 'm', 'y', 'orange', 'brown',\n",
    "              'pink', 'navy', 'lightsteelblue', 'bisque', 'yellow', 'lightgreen', 'violet', 'sandybrown', 'slategrey', 'black']\n",
    "\n",
    "\n",
    "    \n",
    "    for point_i in range(data_full.shape[0]):\n",
    "        plt.plot(data_full[point_i,0], data_full[point_i,1],'.', color=colors[predict_labels[point_i]])\n",
    "\n",
    "    plt.plot(means_true[0,:], means_true[1,:], 'o', color=\"black\", label=\"true\")\n",
    "\n",
    "    #plt.plot(means_original[0,:], means_original[1,:],\"o\", color=\"black\", label = \"true\")\n",
    "    plt.plot(means_est[:,0], means_est[:,1], \"X\", color=\"red\", label=\"estimated\")\n",
    "    plt.legend()\n",
    "    plt.xlabel(\"$X_1$\")\n",
    "    plt.ylabel(\"$X_2$\")\n",
    "    plt.title(r\"federated clustering ($\\beta$ = 0.1)\")\n",
    "    plt.grid(True)\n",
    "    #plt.savefig(\"federated_results2.eps\", format=\"eps\")"
   ]
  },
  {
   "cell_type": "code",
   "execution_count": 56,
   "id": "279b856b",
   "metadata": {},
   "outputs": [
    {
     "data": {
      "image/png": "[encoded data removed]",
      "text/plain": [
       "<Figure size 432x288 with 1 Axes>"
      ]
     },
     "metadata": {
      "needs_background": "light"
     },
     "output_type": "display_data"
    }
   ],
   "source": [
    "full_data_diag, _ =load_full_diag_data(1)\n",
    "\n",
    "orig_means = np.array([(-10,10), (-10, 5), (-10, 0), (-5, 10), (-5,5),(-5,0), (0,10), (0,5), (0,0), (0,-5), (0,-10), (5,0), (5,-5), (5,-10), (10, 0), (10,-5), (10,-10)])\n",
    "\n",
    "plot_federated(full_data_diag, orig_means, all_means[:,:,0,0] )\n"
   ]
  },
  {
   "cell_type": "code",
   "execution_count": 13,
   "id": "a1e9359c",
   "metadata": {},
   "outputs": [],
   "source": [
    "beta = 1\n",
    "n_clients = 5\n",
    "n_cluster_global = 17\n",
    "clients = []\n",
    "for i in range(n_clients):\n",
    "    data, labels = load_diag_data(beta, i)\n",
    "    clients.append(client(data, labels, n_cluster_global))\n",
    "#clients = [client(load_data(beta, i), n_cluster_global) for i in range(n_clients)]\n"
   ]
  },
  {
   "cell_type": "code",
   "execution_count": 186,
   "id": "356cd0b0",
   "metadata": {
    "scrolled": true
   },
   "outputs": [],
   "source": [
    "n_clients = 5\n",
    "n_cluster_global = 16\n",
    "crounds = 20\n",
    "n_runs = 10\n",
    "betas = [0.1, 1, 10]\n",
    "\n",
    "full_scores = np.zeros((n_clients, n_runs, len(betas)))\n",
    "avg_scores = np.zeros((n_runs, len(betas)))\n",
    "all_means = np.zeros((n_cluster_global, 2, n_runs, len(betas)))\n",
    "for beta_i, beta in enumerate(betas):\n",
    "    # init clients and server\n",
    "    #clients = [client(np.genfromtxt(datafiles[i], delimiter=','), np.genfromtxt(labelfiles[i], delimiter=','), n_cluster_global) for i in range(n_clients)]\n",
    "    clients = []\n",
    "    for i in range(n_clients):\n",
    "        data, labels = load_data(beta, i)\n",
    "        clients.append(client(data, labels, n_cluster_global))\n",
    "\n",
    "    server_obj = server(n_cluster_global)\n",
    "\n",
    "\n",
    "    for r in range(n_runs):\n",
    "        means_federated, scores = run(clients, server_obj, crounds, n_clients, n_cluster_global, alpha, Xmin, Xmax, Ymin, Ymax)\n",
    "        full_scores[:,r, beta_i] = scores[:,-1] #only save ARI from last round\n",
    "        all_means[:,:,r, beta_i] = means_federated\n",
    "\n",
    "    # calculate the (weighted) mean ARI for all clients combined\n",
    "    tot_samples = 0\n",
    "    #fed_mean = np.zeros(n_runs)\n",
    "    for client_i, client_o in enumerate(clients):\n",
    "        n_s = len(client_o.labels)\n",
    "        avg_scores[:,beta_i] += n_s * full_scores[client_i, :, beta_i]\n",
    "        tot_samples += n_s\n",
    "\n",
    "    avg_scores[:,beta_i] /= tot_samples"
   ]
  },
  {
   "cell_type": "code",
   "execution_count": 177,
   "id": "34a6ef18",
   "metadata": {},
   "outputs": [],
   "source": [
    "# im not running that 100 iters again\n",
    "avg_scores_log = avg_scores\n",
    "all_means_log = all_means\n",
    "full_scores_log = full_scores"
   ]
  },
  {
   "cell_type": "code",
   "execution_count": 49,
   "id": "a65b8afa",
   "metadata": {},
   "outputs": [
    {
     "data": {
      "text/plain": [
       "(10,)"
      ]
     },
     "execution_count": 49,
     "metadata": {},
     "output_type": "execute_result"
    }
   ],
   "source": [
    "fed_mean.shape"
   ]
  },
  {
   "cell_type": "code",
   "execution_count": 19,
   "id": "34943c67",
   "metadata": {},
   "outputs": [],
   "source": [
    "# calculate the (weighted) mean ARI for all clients combined\n",
    "tot_samples = 0\n",
    "fed_mean = np.zeros(n_runs)\n",
    "for client_i, client_o in enumerate(clients):\n",
    "    n_s = len(client_o.labels)\n",
    "    fed_mean += n_s * full_scores[client_i, -1, :]\n",
    "    tot_samples += n_s\n",
    "    \n",
    "fed_mean /= tot_samples"
   ]
  },
  {
   "cell_type": "code",
   "execution_count": 81,
   "id": "30b1315d",
   "metadata": {
    "collapsed": true
   },
   "outputs": [
    {
     "data": {
      "text/plain": [
       "[<matplotlib.lines.Line2D at 0x7f7d746b43d0>]"
      ]
     },
     "execution_count": 81,
     "metadata": {},
     "output_type": "execute_result"
    },
    {
     "data": {
      "image/png": "[encoded data removed]",
      "text/plain": [
       "<Figure size 432x288 with 1 Axes>"
      ]
     },
     "metadata": {
      "needs_background": "light"
     },
     "output_type": "display_data"
    }
   ],
   "source": [
    "glob_mean = np.zeros(crounds)\n",
    "tot_samples = 0\n",
    "for client_i, client_o in enumerate(clients):\n",
    "    n_s = len(client_o.labels)\n",
    "    glob_mean += n_s * scores[client_i,:]\n",
    "    tot_samples += n_s\n",
    "glob_mean /= tot_samples\n",
    "\n",
    "plt.plot(np.arange(crounds), glob_mean)"
   ]
  },
  {
   "cell_type": "markdown",
   "id": "f44f00ed",
   "metadata": {},
   "source": [
    "## Central baseline"
   ]
  },
  {
   "cell_type": "code",
   "execution_count": 27,
   "id": "e3de70cb",
   "metadata": {},
   "outputs": [
    {
     "ename": "NameError",
     "evalue": "name 'load_full_data' is not defined",
     "output_type": "error",
     "traceback": [
      "\u001b[0;31m---------------------------------------------------------------------------\u001b[0m",
      "\u001b[0;31mNameError\u001b[0m                                 Traceback (most recent call last)",
      "\u001b[0;32m<ipython-input-27-393a065dda4e>\u001b[0m in \u001b[0;36m<module>\u001b[0;34m\u001b[0m\n\u001b[1;32m      1\u001b[0m \u001b[0mn_runs\u001b[0m \u001b[0;34m=\u001b[0m \u001b[0;36m10\u001b[0m\u001b[0;34m\u001b[0m\u001b[0;34m\u001b[0m\u001b[0m\n\u001b[1;32m      2\u001b[0m \u001b[0mscores_central\u001b[0m\u001b[0;34m=\u001b[0m \u001b[0mnp\u001b[0m\u001b[0;34m.\u001b[0m\u001b[0mzeros\u001b[0m\u001b[0;34m(\u001b[0m\u001b[0mn_runs\u001b[0m\u001b[0;34m)\u001b[0m\u001b[0;34m\u001b[0m\u001b[0;34m\u001b[0m\u001b[0m\n\u001b[0;32m----> 3\u001b[0;31m \u001b[0mdata_full\u001b[0m\u001b[0;34m,\u001b[0m \u001b[0mlabels_full\u001b[0m \u001b[0;34m=\u001b[0m \u001b[0mload_full_data\u001b[0m\u001b[0;34m(\u001b[0m\u001b[0;36m0.1\u001b[0m\u001b[0;34m)\u001b[0m\u001b[0;34m\u001b[0m\u001b[0;34m\u001b[0m\u001b[0m\n\u001b[0m\u001b[1;32m      4\u001b[0m \u001b[0;32mfor\u001b[0m \u001b[0mn_run\u001b[0m \u001b[0;32min\u001b[0m \u001b[0mrange\u001b[0m\u001b[0;34m(\u001b[0m\u001b[0mn_runs\u001b[0m\u001b[0;34m)\u001b[0m\u001b[0;34m:\u001b[0m\u001b[0;34m\u001b[0m\u001b[0;34m\u001b[0m\u001b[0m\n\u001b[1;32m      5\u001b[0m     \u001b[0mkmeans_cent\u001b[0m \u001b[0;34m=\u001b[0m \u001b[0mKMeans\u001b[0m\u001b[0;34m(\u001b[0m\u001b[0mn_clusters\u001b[0m \u001b[0;34m=\u001b[0m \u001b[0;36m12\u001b[0m\u001b[0;34m,\u001b[0m \u001b[0mrandom_state\u001b[0m\u001b[0;34m=\u001b[0m\u001b[0;36m0\u001b[0m \u001b[0;34m+\u001b[0m \u001b[0mn_run\u001b[0m\u001b[0;34m)\u001b[0m\u001b[0;34m.\u001b[0m\u001b[0mfit\u001b[0m\u001b[0;34m(\u001b[0m\u001b[0mdata_full\u001b[0m\u001b[0;34m)\u001b[0m\u001b[0;34m\u001b[0m\u001b[0;34m\u001b[0m\u001b[0m\n",
      "\u001b[0;31mNameError\u001b[0m: name 'load_full_data' is not defined"
     ]
    }
   ],
   "source": [
    "n_runs = 10\n",
    "scores_central= np.zeros(n_runs)\n",
    "data_full, labels_full = load_full_data(0.1)\n",
    "for n_run in range(n_runs):\n",
    "    kmeans_cent = KMeans(n_clusters = 16, random_state=0 + n_run).fit(data_full)\n",
    "    scores_central[n_run] = adjusted_rand_score(labels_full, kmeans_cent.labels_)"
   ]
  },
  {
   "cell_type": "code",
   "execution_count": 28,
   "id": "aafe6f09",
   "metadata": {},
   "outputs": [],
   "source": [
    "n_runs = 10\n",
    "scores_central= np.zeros(n_runs)\n",
    "data_full, labels_full = load_full_super_diag_data()\n",
    "for n_run in range(n_runs):\n",
    "    kmeans_cent = KMeans(n_clusters = 12, random_state=0 + n_run).fit(data_full)\n",
    "    scores_central[n_run] = adjusted_rand_score(labels_full, kmeans_cent.labels_)"
   ]
  },
  {
   "cell_type": "code",
   "execution_count": 29,
   "id": "14d72dc0",
   "metadata": {},
   "outputs": [
    {
     "data": {
      "text/plain": [
       "array([0.98174018, 0.98174018, 0.98174018, 0.98174018, 0.98174018,\n",
       "       0.98174018, 0.98174018, 0.98174018, 0.98174018, 0.98174018])"
      ]
     },
     "execution_count": 29,
     "metadata": {},
     "output_type": "execute_result"
    }
   ],
   "source": [
    "scores_central"
   ]
  },
  {
   "cell_type": "markdown",
   "id": "6fb9c4a1",
   "metadata": {},
   "source": [
    "## Visualization"
   ]
  },
  {
   "cell_type": "code",
   "execution_count": 30,
   "id": "35959a6e",
   "metadata": {
    "scrolled": true
   },
   "outputs": [
    {
     "data": {
      "text/plain": [
       "{'whiskers': [<matplotlib.lines.Line2D at 0x7f25e2d01b50>,\n",
       "  <matplotlib.lines.Line2D at 0x7f25e2d01f50>],\n",
       " 'caps': [<matplotlib.lines.Line2D at 0x7f25e2b823d0>,\n",
       "  <matplotlib.lines.Line2D at 0x7f25e2b82810>],\n",
       " 'boxes': [<matplotlib.lines.Line2D at 0x7f25e2d016d0>],\n",
       " 'medians': [<matplotlib.lines.Line2D at 0x7f25e2b82c50>],\n",
       " 'fliers': [<matplotlib.lines.Line2D at 0x7f25e2b9b090>],\n",
       " 'means': []}"
      ]
     },
     "execution_count": 30,
     "metadata": {},
     "output_type": "execute_result"
    },
    {
     "data": {
      "image/png": "[encoded data removed]",
      "text/plain": [
       "<Figure size 432x288 with 1 Axes>"
      ]
     },
     "metadata": {
      "needs_background": "light"
     },
     "output_type": "display_data"
    }
   ],
   "source": [
    "plt.boxplot(avg_scores, positions = [0])\n",
    "plt.boxplot(scores_central, positions = [1])"
   ]
  },
  {
   "cell_type": "code",
   "execution_count": 143,
   "id": "2335d923",
   "metadata": {},
   "outputs": [
    {
     "data": {
      "text/plain": [
       "(10, 3)"
      ]
     },
     "execution_count": 143,
     "metadata": {},
     "output_type": "execute_result"
    }
   ],
   "source": [
    "avg_scores.shape"
   ]
  },
  {
   "cell_type": "code",
   "execution_count": 187,
   "id": "3580156c",
   "metadata": {
    "scrolled": true
   },
   "outputs": [
    {
     "data": {
      "image/png": "[encoded data removed]",
      "text/plain": [
       "<Figure size 432x288 with 1 Axes>"
      ]
     },
     "metadata": {
      "needs_background": "light"
     },
     "output_type": "display_data"
    }
   ],
   "source": [
    "plt.boxplot(avg_scores, positions = [0,1,2])\n",
    "plt.boxplot(scores_central, positions = [3])\n",
    "plt.xticks([0,1,2,3],[r\"$\\beta$ = 0.1\",r\"$\\beta$ = 1\",r\"$\\beta$ = 10\", \"central\"])\n",
    "plt.ylabel(\"Adjusted Rand Index\")\n",
    "plt.ylim([0.7,1])\n",
    "plt.grid(True)\n",
    "plt.title(r\"comparison between federated and central adjusted rand indexes, different values for $\\beta$\")\n",
    "plt.savefig(\"ARI_full.eps\", format=\"eps\")"
   ]
  },
  {
   "cell_type": "code",
   "execution_count": 116,
   "id": "58a5396c",
   "metadata": {
    "scrolled": true
   },
   "outputs": [
    {
     "name": "stderr",
     "output_type": "stream",
     "text": [
      "The PostScript backend does not support transparency; partially transparent artists will be rendered opaque.\n",
      "The PostScript backend does not support transparency; partially transparent artists will be rendered opaque.\n"
     ]
    },
    {
     "data": {
      "image/png": "[encoded data removed]",
      "text/plain": [
       "<Figure size 432x288 with 1 Axes>"
      ]
     },
     "metadata": {
      "needs_background": "light"
     },
     "output_type": "display_data"
    }
   ],
   "source": [
    "colors = ['r', 'b', 'g', 'c', 'm', 'y', 'orange', 'brown',\n",
    "          'pink', 'navy', 'lightsteelblue', 'bisque', 'yellow', 'lightgreen', 'violet', 'sandybrown']\n",
    "\n",
    "means_original = np.array([[-7.5, -7.5, -7.5, -7.5, -2.5, -2.5, -2.5, -2.5, 2.5, 2.5, 2.5, 2.5, 7.5, 7.5, 7.5, 7.5],\n",
    "                           [-7.5, -2.5, 2.5, 7.5, -7.5, -2.5, 2.5, 7.5, -7.5, -2.5, 2.5, 7.5, -7.5, -2.5, 2.5, 7.5]])\n",
    "\n",
    "for point_i in range(data_full.shape[0]):\n",
    "    plt.plot(data_full[point_i,0], data_full[point_i,1],'.', color=colors[kmeans_cent.labels_[point_i]])\n",
    "    \n",
    "plt.plot(means_true[0,:], means_true[1,:], 'o', color=\"black\", label=\"true\")\n",
    "#plt.plot(means_original[0,:], means_original[1,:],\"o\", color=\"black\", label = \"true\")\n",
    "plt.plot(kmeans_cent.cluster_centers_[:,0], kmeans_cent.cluster_centers_[:,1], \"X\", color=\"red\", label=\"estimated\")\n",
    "plt.legend()\n",
    "plt.title(\"central clustering\")\n",
    "plt.grid(True)\n",
    "plt.xlabel(\"$X_1$\")\n",
    "plt.ylabel(\"$X_2$\")\n",
    "plt.savefig(\"central_results2.eps\", format=\"eps\")"
   ]
  },
  {
   "cell_type": "code",
   "execution_count": 18,
   "id": "5bc1e26a",
   "metadata": {
    "scrolled": false
   },
   "outputs": [
    {
     "ename": "NameError",
     "evalue": "name 'data_full' is not defined",
     "output_type": "error",
     "traceback": [
      "\u001b[0;31m---------------------------------------------------------------------------\u001b[0m",
      "\u001b[0;31mNameError\u001b[0m                                 Traceback (most recent call last)",
      "\u001b[0;32m<ipython-input-18-7bb3f696f517>\u001b[0m in \u001b[0;36m<module>\u001b[0;34m\u001b[0m\n\u001b[1;32m      5\u001b[0m \u001b[0mserver_kmeans\u001b[0m\u001b[0;34m.\u001b[0m\u001b[0mcluster_centers_\u001b[0m \u001b[0;34m=\u001b[0m \u001b[0mnp\u001b[0m\u001b[0;34m.\u001b[0m\u001b[0mcopy\u001b[0m\u001b[0;34m(\u001b[0m\u001b[0mall_means\u001b[0m\u001b[0;34m[\u001b[0m\u001b[0;34m:\u001b[0m\u001b[0;34m,\u001b[0m\u001b[0;34m:\u001b[0m\u001b[0;34m,\u001b[0m\u001b[0ms\u001b[0m\u001b[0;34m,\u001b[0m\u001b[0;36m0\u001b[0m\u001b[0;34m]\u001b[0m\u001b[0;34m)\u001b[0m\u001b[0;31m# overwrite the 'fit' results\u001b[0m\u001b[0;34m\u001b[0m\u001b[0;34m\u001b[0m\u001b[0m\n\u001b[1;32m      6\u001b[0m \u001b[0;34m\u001b[0m\u001b[0m\n\u001b[0;32m----> 7\u001b[0;31m \u001b[0mpredict_labels\u001b[0m \u001b[0;34m=\u001b[0m \u001b[0mserver_kmeans\u001b[0m\u001b[0;34m.\u001b[0m\u001b[0mpredict\u001b[0m\u001b[0;34m(\u001b[0m\u001b[0mdata_full\u001b[0m\u001b[0;34m)\u001b[0m \u001b[0;31m#these are used for visualization\u001b[0m\u001b[0;34m\u001b[0m\u001b[0;34m\u001b[0m\u001b[0m\n\u001b[0m\u001b[1;32m      8\u001b[0m \u001b[0;34m\u001b[0m\u001b[0m\n\u001b[1;32m      9\u001b[0m colors = ['b', 'g', 'c', 'm', 'y', 'orange', 'brown',\n",
      "\u001b[0;31mNameError\u001b[0m: name 'data_full' is not defined"
     ]
    }
   ],
   "source": [
    "# make an extra 'kmeans' object for visualization\n",
    "s = 0\n",
    "\n",
    "server_kmeans = KMeans(n_clusters=16, ).fit(clients[1].data) #need fit before predict\n",
    "server_kmeans.cluster_centers_ = np.copy(all_means[:,:,s,0])# overwrite the 'fit' results\n",
    "\n",
    "predict_labels = server_kmeans.predict(data_full) #these are used for visualization\n",
    "\n",
    "colors = ['b', 'g', 'c', 'm', 'y', 'orange', 'brown',\n",
    "          'pink', 'navy', 'lightsteelblue', 'bisque', 'yellow', 'lightgreen', 'violet', 'sandybrown', 'slategrey']\n",
    "\n",
    "\n",
    "\n",
    "for point_i in range(data_full.shape[0]):\n",
    "    plt.plot(data_full[point_i,0], data_full[point_i,1],'.', color=colors[predict_labels[point_i]])\n",
    "    \n",
    "plt.plot(means_true[0,:], means_true[1,:], 'o', color=\"black\", label=\"true\")\n",
    "\n",
    "#plt.plot(means_original[0,:], means_original[1,:],\"o\", color=\"black\", label = \"true\")\n",
    "plt.plot(all_means[:,0, s, 0], all_means[:,1,s,0], \"X\", color=\"red\", label=\"estimated\")\n",
    "plt.legend()\n",
    "plt.xlabel(\"$X_1$\")\n",
    "plt.ylabel(\"$X_2$\")\n",
    "plt.title(r\"federated clustering ($\\beta$ = 0.1)\")\n",
    "plt.grid(True)\n",
    "plt.savefig(\"federated_results2.eps\", format=\"eps\")"
   ]
  },
  {
   "cell_type": "code",
   "execution_count": 87,
   "id": "27ea0bbe",
   "metadata": {},
   "outputs": [],
   "source": [
    "# calculate 'true' means (not from where we've originally sampled)\n",
    "means_true = np.zeros((2,16))\n",
    "\n",
    "for i in range(16):\n",
    "    inds = np.where(labels_full == i)\n",
    "    #data_selec = data_full[:,inds]\n",
    "    means_true[:,i] = np.mean(data_full[inds,:], axis = 1)"
   ]
  },
  {
   "cell_type": "code",
   "execution_count": null,
   "id": "4893bcac",
   "metadata": {},
   "outputs": [],
   "source": []
  },
  {
   "cell_type": "code",
   "execution_count": 189,
   "id": "3b8915c5",
   "metadata": {},
   "outputs": [
    {
     "name": "stderr",
     "output_type": "stream",
     "text": [
      "The PostScript backend does not support transparency; partially transparent artists will be rendered opaque.\n",
      "The PostScript backend does not support transparency; partially transparent artists will be rendered opaque.\n"
     ]
    },
    {
     "data": {
      "image/png": "[encoded data removed]",
      "text/plain": [
       "<Figure size 432x288 with 1 Axes>"
      ]
     },
     "metadata": {
      "needs_background": "light"
     },
     "output_type": "display_data"
    }
   ],
   "source": [
    "#plt.plot(means_federated[:,0], means_federated[:,1],\"x\", color=\"blue\", label = \"federated\")\n",
    "plt.plot(all_means[:,0,0,0], all_means[:,1,0,0], 'x', color=\"blue\", label=\"federated\")\n",
    "\n",
    "plt.plot(kmeans_cent.cluster_centers_[:,0], kmeans_cent.cluster_centers_[:,1], \"x\", color=\"red\", label=\"central\")\n",
    "#plt.plot(means_original[0,:], means_original[1,:],\".\", color=\"black\", label = \"true\")\n",
    "plt.plot(means_true[0,:], means_true[1,:], '.', color=\"black\", label=\"true\")\n",
    "\n",
    "plt.title(r\"central means compared with federated means ($\\beta$ = 0.1)\")\n",
    "plt.legend()\n",
    "plt.xlabel(\"$X_1$\")\n",
    "plt.ylabel(\"$X_2$\")\n",
    "plt.savefig(\"federated_means2.eps\", format=\"eps\")"
   ]
  },
  {
   "cell_type": "code",
   "execution_count": 160,
   "id": "5105c730",
   "metadata": {
    "scrolled": true
   },
   "outputs": [
    {
     "data": {
      "text/plain": [
       "Text(0.5, 1.0, 'federated vs. original')"
      ]
     },
     "execution_count": 160,
     "metadata": {},
     "output_type": "execute_result"
    },
    {
     "data": {
      "image/png": "[encoded data removed]",
      "text/plain": [
       "<Figure size 432x288 with 1 Axes>"
      ]
     },
     "metadata": {
      "needs_background": "light"
     },
     "output_type": "display_data"
    }
   ],
   "source": [
    "means_original = np.array([[-7.5, -7.5, -7.5, -7.5, -2.5, -2.5, -2.5, -2.5, 2.5, 2.5, 2.5, 2.5, 7.5, 7.5, 7.5, 7.5],\n",
    "                           [-7.5, -2.5, 2.5, 7.5, -7.5, -2.5, 2.5, 7.5, -7.5, -2.5, 2.5, 7.5, -7.5, -2.5, 2.5, 7.5]])\n",
    "\n",
    "plt.plot(global_clusters[:,0], global_clusters[:,1], '.')\n",
    "plt.plot(means_original[0,:], means_original[1,:], 'x')\n",
    "plt.title(\"federated vs. original\")"
   ]
  }
 ],
 "metadata": {
  "kernelspec": {
   "display_name": "Python 3",
   "language": "python",
   "name": "python3"
  },
  "language_info": {
   "codemirror_mode": {
    "name": "ipython",
    "version": 3
   },
   "file_extension": ".py",
   "mimetype": "text/x-python",
   "name": "python",
   "nbconvert_exporter": "python",
   "pygments_lexer": "ipython3",
   "version": "3.7.10"
  }
 },
 "nbformat": 4,
 "nbformat_minor": 5
}
