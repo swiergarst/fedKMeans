{
 "cells": [
  {
   "cell_type": "code",
   "execution_count": 34,
   "id": "43064627",
   "metadata": {},
   "outputs": [],
   "source": [
    "import numpy as np\n",
    "import matplotlib.pyplot as plt\n",
    "import pandas as pd\n",
    "import math"
   ]
  },
  {
   "cell_type": "code",
   "execution_count": null,
   "id": "a544627e",
   "metadata": {},
   "outputs": [],
   "source": []
  },
  {
   "cell_type": "markdown",
   "id": "466ecf19",
   "metadata": {},
   "source": [
    "### Synthesize dataset"
   ]
  },
  {
   "cell_type": "code",
   "execution_count": 6,
   "id": "9de428e7",
   "metadata": {},
   "outputs": [
    {
     "data": {
      "image/png": "[encoded data removed]",
      "text/plain": [
       "<Figure size 432x288 with 1 Axes>"
      ]
     },
     "metadata": {
      "needs_background": "light"
     },
     "output_type": "display_data"
    }
   ],
   "source": [
    "#init cluster means\n",
    "cluster_means = np.array([(-7.5, -7.5),(-7.5, -2.5),(-7.5, 2.5),(-7.5, 7.5),(-2.5, -7.5),(-2.5, -2.5),(-2.5, 2.5), (-2.5, 7.5), (2.5, -7.5), (2.5, -2.5), (2.5, 2.5), (2.5, 7.5), (7.5, -7.5), (7.5, -2.5), (7.5, 2.5), (7.5, 7.5)])\n",
    "\n"
   ]
  },
  {
   "cell_type": "code",
   "execution_count": 18,
   "id": "2c4109b5",
   "metadata": {},
   "outputs": [],
   "source": [
    "data_x = []\n",
    "data_y = []\n",
    "data = np.empty((2,50*16))\n",
    "for mean_i, mean in enumerate(cluster_means):\n",
    "    points_x = np.random.normal(loc=mean[0], size=50)\n",
    "    points_y = np.random.normal(loc=mean[1], size=50)\n",
    "    data[:,mean_i*50:mean_i*50+50] = [points_x, points_y]\n"
   ]
  },
  {
   "cell_type": "code",
   "execution_count": 27,
   "id": "0a3523fd",
   "metadata": {},
   "outputs": [],
   "source": [
    "n_obs = 5\n",
    "observers = np.empty((2,n_obs))\n",
    "\n",
    "for i_obs in range(n_obs):\n",
    "    observers[:,i_obs] = np.random.uniform(low=-10, high=10, size = 2)\n"
   ]
  },
  {
   "cell_type": "code",
   "execution_count": 28,
   "id": "c99554a8",
   "metadata": {},
   "outputs": [
    {
     "data": {
      "image/png": "[encoded data removed]",
      "text/plain": [
       "<Figure size 432x288 with 1 Axes>"
      ]
     },
     "metadata": {
      "needs_background": "light"
     },
     "output_type": "display_data"
    }
   ],
   "source": [
    "plt.plot(data[0,:], data[1,:], '.', c='black')\n",
    "plt.plot(observers[0,:], observers[1,:], 'x', c='blue')\n",
    "for mean in cluster_means:\n",
    "    plt.plot(mean[0], mean[1], 'o', c='red')"
   ]
  },
  {
   "cell_type": "code",
   "execution_count": 59,
   "id": "dca9322d",
   "metadata": {},
   "outputs": [],
   "source": [
    "obs1 = {\n",
    "    'loc' : np.array([observers[0,0], observers[1,0]]),\n",
    "    'data': []}\n",
    "\n",
    "obs2 = {\n",
    "    'loc' : np.array([observers[0,1], observers[1,1]]),\n",
    "    'data': []}\n",
    "\n",
    "obs3 = {\n",
    "    'loc' : np.array([observers[0,2], observers[1,2]]),\n",
    "    'data': []}\n",
    "\n",
    "obs4 = {\n",
    "    'loc' : np.array([observers[0,3], observers[1,3]]),\n",
    "    'data': []}\n",
    "\n",
    "obs5 = {\n",
    "    'loc' : np.array([observers[0,4], observers[1,4]]),\n",
    "    'data': []}\n",
    "\n",
    "observer_list = np.array([obs1, obs2, obs3, obs4, obs5])\n",
    "data_total = 50*16\n",
    "SNR = 4\n",
    "alpha = 0.025\n",
    "for i in range(data_total):\n",
    "    data_point = (data[0,i], data[1,i])\n",
    "    hits = np.zeros([5], dtype=bool)\n",
    "    dists = np.zeros([5])\n",
    "    for obs_i, obs in enumerate(observer_list):\n",
    "        dists[obs_i] = np.linalg.norm(obs['loc'] - np.array([data[0,i], data[1,i]]))\n",
    "        obs_probab = 1-math.exp(-(alpha * SNR) / obs_dist)\n",
    "        hits[obs_i] = np.random.choice([0, 1], p=[1-obs_probab, obs_probab])\n",
    "    if np.sum(hits) == 0: # if nobody hits, just give the point to the closest observer\n",
    "        observer_list[np.argmin(dists)]['data'].append(data_point)\n",
    "    else: #if one or more parties hit, give it to the furthest observer\n",
    "        #print(observer_list[hits])\n",
    "        furthest_obs = observer_list[np.argmax(dists[hits])]\n",
    "        furthest_obs['data'].append(data_point)"
   ]
  },
  {
   "cell_type": "code",
   "execution_count": 52,
   "id": "e88c5b35",
   "metadata": {},
   "outputs": [
    {
     "ename": "TypeError",
     "evalue": "only integer scalar arrays can be converted to a scalar index",
     "output_type": "error",
     "traceback": [
      "\u001b[0;31m---------------------------------------------------------------------------\u001b[0m",
      "\u001b[0;31mTypeError\u001b[0m                                 Traceback (most recent call last)",
      "\u001b[0;32m<ipython-input-52-73613dc0264f>\u001b[0m in \u001b[0;36m<module>\u001b[0;34m\u001b[0m\n\u001b[1;32m      3\u001b[0m \u001b[0mmask_array\u001b[0m \u001b[0;34m=\u001b[0m \u001b[0mnp\u001b[0m\u001b[0;34m.\u001b[0m\u001b[0marray\u001b[0m\u001b[0;34m(\u001b[0m\u001b[0;34m[\u001b[0m\u001b[0;32mFalse\u001b[0m\u001b[0;34m,\u001b[0m \u001b[0;32mFalse\u001b[0m\u001b[0;34m,\u001b[0m \u001b[0;32mTrue\u001b[0m\u001b[0;34m,\u001b[0m \u001b[0;32mFalse\u001b[0m\u001b[0;34m]\u001b[0m\u001b[0;34m)\u001b[0m\u001b[0;34m\u001b[0m\u001b[0;34m\u001b[0m\u001b[0m\n\u001b[1;32m      4\u001b[0m \u001b[0;34m\u001b[0m\u001b[0m\n\u001b[0;32m----> 5\u001b[0;31m \u001b[0marray1\u001b[0m\u001b[0;34m[\u001b[0m\u001b[0mmask_array2\u001b[0m\u001b[0;34m]\u001b[0m\u001b[0;34m\u001b[0m\u001b[0;34m\u001b[0m\u001b[0m\n\u001b[0m",
      "\u001b[0;31mTypeError\u001b[0m: only integer scalar arrays can be converted to a scalar index"
     ]
    }
   ],
   "source": [
    "array1 = [3,4,6,5]\n",
    "mask_array2 = np.array([0,0,1,1], dtype=bool)\n",
    "mask_array = np.array([False, False, True, False])\n",
    "\n",
    "array1[mask_array2]"
   ]
  },
  {
   "cell_type": "code",
   "execution_count": 36,
   "id": "75ebfb82",
   "metadata": {},
   "outputs": [
    {
     "data": {
      "text/plain": [
       "0.012755575460505875"
      ]
     },
     "execution_count": 36,
     "metadata": {},
     "output_type": "execute_result"
    }
   ],
   "source": [
    "obs_probab"
   ]
  }
 ],
 "metadata": {
  "kernelspec": {
   "display_name": "Python 3",
   "language": "python",
   "name": "python3"
  },
  "language_info": {
   "codemirror_mode": {
    "name": "ipython",
    "version": 3
   },
   "file_extension": ".py",
   "mimetype": "text/x-python",
   "name": "python",
   "nbconvert_exporter": "python",
   "pygments_lexer": "ipython3",
   "version": "3.7.10"
  }
 },
 "nbformat": 4,
 "nbformat_minor": 5
}
