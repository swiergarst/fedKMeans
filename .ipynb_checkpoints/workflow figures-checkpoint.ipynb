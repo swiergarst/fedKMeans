{
 "cells": [
  {
   "cell_type": "code",
   "execution_count": 1,
   "id": "92dad1c6",
   "metadata": {},
   "outputs": [],
   "source": [
    "import numpy as np\n",
    "from common import *\n",
    "import fed_kmeans_V2 as fkm\n",
    "\n",
    "\n",
    "def warn(*args, **kwargs):\n",
    "    pass\n",
    "import warnings\n",
    "warnings.warn = warn"
   ]
  },
  {
   "cell_type": "code",
   "execution_count": 2,
   "id": "d8a902b4",
   "metadata": {},
   "outputs": [],
   "source": [
    "n_runs = 200\n",
    "n_global = 16\n",
    "crounds = 10\n",
    "beta = 0.1\n",
    "cluster_wise_V2 = fkm.run_V2(n_global, n_runs= n_runs, crounds = 10, beta = beta, dset='cluster_wise', weighted_init = True)"
   ]
  },
  {
   "cell_type": "code",
   "execution_count": 4,
   "id": "14c2ee35",
   "metadata": {
    "scrolled": true
   },
   "outputs": [
    {
     "data": {
      "text/plain": [
       "{'whiskers': [<matplotlib.lines.Line2D at 0x7f6fed97d590>,\n",
       "  <matplotlib.lines.Line2D at 0x7f6fed698f10>],\n",
       " 'caps': [<matplotlib.lines.Line2D at 0x7f6fed69f390>,\n",
       "  <matplotlib.lines.Line2D at 0x7f6fed69f7d0>],\n",
       " 'boxes': [<matplotlib.lines.Line2D at 0x7f6fed698710>],\n",
       " 'medians': [<matplotlib.lines.Line2D at 0x7f6fed69fc50>],\n",
       " 'fliers': [<matplotlib.lines.Line2D at 0x7f6fed6ad0d0>],\n",
       " 'means': []}"
      ]
     },
     "execution_count": 4,
     "metadata": {},
     "output_type": "execute_result"
    },
    {
     "data": {
      "image/png": "[encoded data removed]",
      "text/plain": [
       "<Figure size 640x480 with 1 Axes>"
      ]
     },
     "metadata": {},
     "output_type": "display_data"
    }
   ],
   "source": [
    "plt.boxplot(cluster_wise_V2[-1, :])"
   ]
  },
  {
   "cell_type": "code",
   "execution_count": 5,
   "id": "032e4eec",
   "metadata": {},
   "outputs": [],
   "source": [
    "np.savetxt(\"cluster_wise_V2_weighted.csv\", cluster_wise_V2, delimiter = \",\")"
   ]
  }
 ],
 "metadata": {
  "kernelspec": {
   "display_name": "Python 3 (ipykernel)",
   "language": "python",
   "name": "python3"
  },
  "language_info": {
   "codemirror_mode": {
    "name": "ipython",
    "version": 3
   },
   "file_extension": ".py",
   "mimetype": "text/x-python",
   "name": "python",
   "nbconvert_exporter": "python",
   "pygments_lexer": "ipython3",
   "version": "3.7.10"
  }
 },
 "nbformat": 4,
 "nbformat_minor": 5
}
