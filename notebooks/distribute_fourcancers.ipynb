{
 "cells": [
  {
   "cell_type": "code",
   "execution_count": 7,
   "id": "47e71f01",
   "metadata": {},
   "outputs": [],
   "source": [
    "import matplotlib.pyplot as plt\n",
    "import numpy as np\n",
    "import pandas as pd\n",
    "from sklearn.decomposition import PCA"
   ]
  },
  {
   "cell_type": "code",
   "execution_count": 2,
   "id": "2631fe1f",
   "metadata": {},
   "outputs": [],
   "source": [
    "# import raw data (may take a while)\n",
    "df = pd.read_csv(\"../data/fourcancers/fourcancers_orig.csv\", index_col = 0)"
   ]
  },
  {
   "cell_type": "code",
   "execution_count": 3,
   "id": "caf4fae9",
   "metadata": {},
   "outputs": [],
   "source": [
    "df = df.transpose()"
   ]
  },
  {
   "cell_type": "code",
   "execution_count": 4,
   "id": "ee3f41b3",
   "metadata": {},
   "outputs": [],
   "source": [
    "#import metadata\n",
    "patients = pd.read_csv(\"../data/fourcancers/patients.csv\", index_col = 0)\n",
    "status = pd.read_csv(\"../data/fourcancers/status.csv\", index_col = 0)\n",
    "celltype = pd.read_csv(\"../data/fourcancers/celltype.csv\", index_col = 0)\n",
    "\n"
   ]
  },
  {
   "cell_type": "code",
   "execution_count": 5,
   "id": "ddafbb31",
   "metadata": {},
   "outputs": [],
   "source": [
    "patients['patient'] = patients['x']\n",
    "patients = patients.drop(columns = ['x'])\n",
    "\n",
    "metadata = patients\n",
    "metadata['status'] = status['x']\n",
    "metadata['celltype'] = celltype['x']\n"
   ]
  },
  {
   "cell_type": "code",
   "execution_count": 12,
   "id": "734045e9",
   "metadata": {},
   "outputs": [
    {
     "data": {
      "text/html": [
       "<div>\n",
       "<style scoped>\n",
       "    .dataframe tbody tr th:only-of-type {\n",
       "        vertical-align: middle;\n",
       "    }\n",
       "\n",
       "    .dataframe tbody tr th {\n",
       "        vertical-align: top;\n",
       "    }\n",
       "\n",
       "    .dataframe thead th {\n",
       "        text-align: right;\n",
       "    }\n",
       "</style>\n",
       "<table border=\"1\" class=\"dataframe\">\n",
       "  <thead>\n",
       "    <tr style=\"text-align: right;\">\n",
       "      <th></th>\n",
       "      <th>patient</th>\n",
       "      <th>status</th>\n",
       "      <th>celltype</th>\n",
       "    </tr>\n",
       "  </thead>\n",
       "  <tbody>\n",
       "    <tr>\n",
       "      <th>1</th>\n",
       "      <td>Lung1</td>\n",
       "      <td>Tumor</td>\n",
       "      <td>Lung</td>\n",
       "    </tr>\n",
       "    <tr>\n",
       "      <th>2</th>\n",
       "      <td>Lung1</td>\n",
       "      <td>Tumor</td>\n",
       "      <td>Lung</td>\n",
       "    </tr>\n",
       "    <tr>\n",
       "      <th>3</th>\n",
       "      <td>Lung1</td>\n",
       "      <td>Tumor</td>\n",
       "      <td>Lung</td>\n",
       "    </tr>\n",
       "    <tr>\n",
       "      <th>4</th>\n",
       "      <td>Lung1</td>\n",
       "      <td>Tumor</td>\n",
       "      <td>Lung</td>\n",
       "    </tr>\n",
       "    <tr>\n",
       "      <th>5</th>\n",
       "      <td>Lung1</td>\n",
       "      <td>Tumor</td>\n",
       "      <td>Lung</td>\n",
       "    </tr>\n",
       "  </tbody>\n",
       "</table>\n",
       "</div>"
      ],
      "text/plain": [
       "  patient status celltype\n",
       "1   Lung1  Tumor     Lung\n",
       "2   Lung1  Tumor     Lung\n",
       "3   Lung1  Tumor     Lung\n",
       "4   Lung1  Tumor     Lung\n",
       "5   Lung1  Tumor     Lung"
      ]
     },
     "execution_count": 12,
     "metadata": {},
     "output_type": "execute_result"
    }
   ],
   "source": [
    "metadata.head()"
   ]
  },
  {
   "cell_type": "code",
   "execution_count": 13,
   "id": "83d7ac43",
   "metadata": {},
   "outputs": [
    {
     "data": {
      "text/plain": [
       "array(['Tumor', 'NAT'], dtype=object)"
      ]
     },
     "execution_count": 13,
     "metadata": {},
     "output_type": "execute_result"
    }
   ],
   "source": [
    "metadata.loc[metadata['patient'] == 'Lung1']['status'].unique()"
   ]
  },
  {
   "cell_type": "code",
   "execution_count": 9,
   "id": "7c44ffbd",
   "metadata": {},
   "outputs": [
    {
     "data": {
      "text/plain": [
       "Tumor    68905\n",
       "NAT      58683\n",
       "Name: x, dtype: int64"
      ]
     },
     "execution_count": 9,
     "metadata": {},
     "output_type": "execute_result"
    }
   ],
   "source": [
    "status['x'].value_counts()"
   ]
  },
  {
   "cell_type": "code",
   "execution_count": 32,
   "id": "48176b65",
   "metadata": {
    "scrolled": true
   },
   "outputs": [
    {
     "data": {
      "text/plain": [
       "Lung3     18283\n",
       "Endo1     17604\n",
       "Lung2     14860\n",
       "Lung4     13919\n",
       "Lung1     13015\n",
       "Lung6     10477\n",
       "Endo2      7565\n",
       "Renal2     7036\n",
       "Lung5      6592\n",
       "Endo3      5528\n",
       "Renal1     5039\n",
       "Colon1     4037\n",
       "Renal3     2863\n",
       "Colon2      770\n",
       "Name: patient, dtype: int64"
      ]
     },
     "execution_count": 32,
     "metadata": {},
     "output_type": "execute_result"
    }
   ],
   "source": [
    "patients['patient'].value_counts()"
   ]
  },
  {
   "cell_type": "code",
   "execution_count": 15,
   "id": "a6d4132e",
   "metadata": {},
   "outputs": [],
   "source": [
    "# first subset for only the NAT cells/discard cancer cells\n",
    "NAT_idx = metadata.loc[metadata['status'] == 'NAT'].index\n",
    "df_NAT = df.iloc[NAT_idx.values - 1, :]\n"
   ]
  },
  {
   "cell_type": "code",
   "execution_count": 19,
   "id": "0511c4a9",
   "metadata": {},
   "outputs": [
    {
     "data": {
      "text/plain": [
       "Int64Index([  7096,   7097,   7098,   7099,   7100,   7101,   7102,   7103,\n",
       "              7104,   7105,\n",
       "            ...\n",
       "            127579, 127580, 127581, 127582, 127583, 127584, 127585, 127586,\n",
       "            127587, 127588],\n",
       "           dtype='int64', length=58683)"
      ]
     },
     "execution_count": 19,
     "metadata": {},
     "output_type": "execute_result"
    }
   ],
   "source": [
    "client1_idx"
   ]
  },
  {
   "cell_type": "markdown",
   "id": "988c03e7",
   "metadata": {},
   "source": [
    "## IID separation: cancer cells only"
   ]
  },
  {
   "cell_type": "code",
   "execution_count": 33,
   "id": "992cb64a",
   "metadata": {},
   "outputs": [],
   "source": [
    "# define which client has which patients\n",
    "client1_patients = ['Lung1', 'Lung2', 'Endo1', 'Colon1', 'Renal1']\n",
    "client2_patients = ['Lung3', 'Lung4', 'Endo2', 'Colon2', 'Renal2']\n",
    "client3_patients = ['Lung5', 'Lung6', 'Endo3', 'Renal3'] # only 2 patients with colon\n",
    "\n",
    "\n",
    "# subset for only the NAT cells/discard cancer cells\n",
    "client1_idx = metadata.loc[metadata['status'] == 'Tumor'].loc[metadata['patient'].isin(client1_patients)]\n",
    "client1_df = df.iloc[client1_idx.index.values - 1, :] # index column is 1-indexed, hence the -1\n",
    "\n",
    "client2_idx = patients.loc[metadata['status'] == 'Tumor'].loc[metadata['patient'].isin(client2_patients)]\n",
    "client2_df = df.iloc[client2_idx.index.values - 1, :]\n",
    "\n",
    "client3_idx = patients.loc[metadata['status'] == 'Tumor'].loc[metadata['patient'].isin(client3_patients)]\n",
    "client3_df = df.iloc[client3_idx.index.values - 1, :]"
   ]
  },
  {
   "cell_type": "code",
   "execution_count": 34,
   "id": "61628c8a",
   "metadata": {},
   "outputs": [],
   "source": [
    "# save to csv\n",
    "client1_df.to_csv(\"client1_iid_Tumor.csv\", index = False)\n",
    "client2_df.to_csv(\"client2_iid_Tumor.csv\", index = False)\n",
    "client3_df.to_csv(\"client3_iid_Tumor.csv\", index = False)"
   ]
  },
  {
   "cell_type": "markdown",
   "id": "b7da8aa0",
   "metadata": {},
   "source": [
    "#### IID, PCA"
   ]
  },
  {
   "cell_type": "code",
   "execution_count": 8,
   "id": "7b0c6974",
   "metadata": {},
   "outputs": [],
   "source": [
    "# do PCA \n",
    "X_full_PCA = PCA(n_components = 5).fit_transform(df.values)\n",
    "df_PCA = pd.DataFrame(X_full_PCA)\n"
   ]
  },
  {
   "cell_type": "code",
   "execution_count": 10,
   "id": "ebfcb0af",
   "metadata": {},
   "outputs": [],
   "source": [
    "# define which client has which patients\n",
    "client1_patients = ['Lung1', 'Lung2', 'Endo1', 'Colon1', 'Renal1']\n",
    "client2_patients = ['Lung3', 'Lung4', 'Endo2', 'Colon2', 'Renal2']\n",
    "client3_patients = ['Lung5', 'Lung6', 'Endo3', 'Renal3'] # only 2 patients with colon\n",
    "\n",
    "\n",
    "# subset for only the NAT cells/discard cancer cells\n",
    "client1_idx = metadata.loc[metadata['status'] == 'Tumor'].loc[metadata['patient'].isin(client1_patients)]\n",
    "client1_df = df_PCA.iloc[client1_idx.index.values - 1, :] # index column is 1-indexed, hence the -1\n",
    "\n",
    "client2_idx = patients.loc[metadata['status'] == 'Tumor'].loc[metadata['patient'].isin(client2_patients)]\n",
    "client2_df = df_PCA.iloc[client2_idx.index.values - 1, :]\n",
    "\n",
    "client3_idx = patients.loc[metadata['status'] == 'Tumor'].loc[metadata['patient'].isin(client3_patients)]\n",
    "client3_df = df_PCA.iloc[client3_idx.index.values - 1, :]"
   ]
  },
  {
   "cell_type": "code",
   "execution_count": 11,
   "id": "8e778cf3",
   "metadata": {},
   "outputs": [],
   "source": [
    "# save to csv\n",
    "client1_df.to_csv(\"client1_iid_Tumor_PCA.csv\", index = False)\n",
    "client2_df.to_csv(\"client2_iid_Tumor_PCA.csv\", index = False)\n",
    "client3_df.to_csv(\"client3_iid_Tumor_PCA.csv\", index = False)"
   ]
  },
  {
   "cell_type": "markdown",
   "id": "32d129fc",
   "metadata": {},
   "source": [
    "## Non-IID separation: cancer cells only"
   ]
  },
  {
   "cell_type": "code",
   "execution_count": 12,
   "id": "dcf27c63",
   "metadata": {},
   "outputs": [],
   "source": [
    "# define which client has which patients\n",
    "client1_patients = ['Lung1', 'Lung2', 'Endo1', 'Endo2', 'Endo3']\n",
    "client2_patients = ['Lung3', 'Lung4', 'Colon1', 'Colon2']\n",
    "client3_patients = ['Lung5', 'Lung6', 'Renal1', 'Renal2', 'Renal3'] \n",
    "\n",
    "\n",
    "\n",
    "# subset for only the NAT cells/discard cancer cells\n",
    "client1_idx = metadata.loc[metadata['status'] == 'Tumor'].loc[metadata['patient'].isin(client1_patients)]\n",
    "client1_df = df.iloc[client1_idx.index.values - 1, :] # index column is 1-indexed, hence the -1\n",
    "\n",
    "client2_idx = patients.loc[metadata['status'] == 'Tumor'].loc[metadata['patient'].isin(client2_patients)]\n",
    "client2_df = df.iloc[client2_idx.index.values - 1, :]\n",
    "\n",
    "client3_idx = patients.loc[metadata['status'] == 'Tumor'].loc[metadata['patient'].isin(client3_patients)]\n",
    "client3_df = df.iloc[client3_idx.index.values - 1, :]"
   ]
  },
  {
   "cell_type": "code",
   "execution_count": 13,
   "id": "81c314d0",
   "metadata": {},
   "outputs": [],
   "source": [
    "# save to csv\n",
    "client1_df.to_csv(\"client1_niid_Tumor.csv\", index = False)\n",
    "client2_df.to_csv(\"client2_niid_Tumor.csv\", index = False)\n",
    "client3_df.to_csv(\"client3_niid_Tumor.csv\", index = False)"
   ]
  },
  {
   "cell_type": "markdown",
   "id": "4540282c",
   "metadata": {},
   "source": [
    "#### non-IID: PCA"
   ]
  },
  {
   "cell_type": "code",
   "execution_count": null,
   "id": "ebb26b84",
   "metadata": {},
   "outputs": [],
   "source": [
    "# do PCA \n",
    "X_full_PCA = PCA(n_components = 5).fit_transform(df.values)\n",
    "df_PCA = pd.DataFrame(X_full_PCA)\n"
   ]
  },
  {
   "cell_type": "code",
   "execution_count": 14,
   "id": "c6915902",
   "metadata": {},
   "outputs": [],
   "source": [
    "# define which client has which patients\n",
    "client1_patients = ['Lung1', 'Lung2', 'Endo1', 'Endo2', 'Endo3']\n",
    "client2_patients = ['Lung3', 'Lung4', 'Colon1', 'Colon2']\n",
    "client3_patients = ['Lung5', 'Lung6', 'Renal1', 'Renal2', 'Renal3'] \n",
    "\n",
    "\n",
    "# subset for only the NAT cells/discard cancer cells\n",
    "client1_idx = metadata.loc[metadata['status'] == 'Tumor'].loc[metadata['patient'].isin(client1_patients)]\n",
    "client1_df = df_PCA.iloc[client1_idx.index.values - 1, :] # index column is 1-indexed, hence the -1\n",
    "\n",
    "client2_idx = patients.loc[metadata['status'] == 'Tumor'].loc[metadata['patient'].isin(client2_patients)]\n",
    "client2_df = df_PCA.iloc[client2_idx.index.values - 1, :]\n",
    "\n",
    "client3_idx = patients.loc[metadata['status'] == 'Tumor'].loc[metadata['patient'].isin(client3_patients)]\n",
    "client3_df = df_PCA.iloc[client3_idx.index.values - 1, :]"
   ]
  },
  {
   "cell_type": "code",
   "execution_count": 15,
   "id": "179a4d94",
   "metadata": {},
   "outputs": [],
   "source": [
    "# save to csv\n",
    "client1_df.to_csv(\"client1_niid_Tumor_PCA.csv\", index = False)\n",
    "client2_df.to_csv(\"client2_niid_Tumor_PCA.csv\", index = False)\n",
    "client3_df.to_csv(\"client3_niid_Tumor_PCA.csv\", index = False)"
   ]
  },
  {
   "cell_type": "markdown",
   "id": "23a22f9d",
   "metadata": {},
   "source": [
    "## IID separation: everyone gets patients from (almost) every cell type: NAT cells only"
   ]
  },
  {
   "cell_type": "code",
   "execution_count": 24,
   "id": "4df5f78f",
   "metadata": {},
   "outputs": [],
   "source": [
    "# define which client has which patients\n",
    "client1_patients = ['Lung1', 'Lung2', 'Endo1', 'Colon1', 'Renal1']\n",
    "client2_patients = ['Lung3', 'Lung4', 'Endo2', 'Colon2', 'Renal2']\n",
    "client3_patients = ['Lung5', 'Lung6', 'Endo3', 'Renal3'] # only 2 patients with colon\n",
    "\n",
    "\n",
    "# subset for only the NAT cells/discard cancer cells\n",
    "client1_idx = metadata.loc[metadata['status'] == 'NAT'].loc[metadata['patient'].isin(client1_patients)]\n",
    "client1_df = df.iloc[client1_idx.index.values - 1, :] # index column is 1-indexed, hence the -1\n",
    "\n",
    "client2_idx = patients.loc[metadata['status'] == 'NAT'].loc[metadata['patient'].isin(client2_patients)]\n",
    "client2_df = df.iloc[client2_idx.index.values - 1, :]\n",
    "\n",
    "client3_idx = patients.loc[metadata['status'] == 'NAT'].loc[metadata['patient'].isin(client3_patients)]\n",
    "client3_df = df.iloc[client3_idx.index.values - 1, :]"
   ]
  },
  {
   "cell_type": "code",
   "execution_count": 25,
   "id": "3432004f",
   "metadata": {},
   "outputs": [
    {
     "data": {
      "text/plain": [
       "(24101, 21879, 12703)"
      ]
     },
     "execution_count": 25,
     "metadata": {},
     "output_type": "execute_result"
    }
   ],
   "source": [
    "client1_df.shape[0], client2_df.shape[0], client3_df.shape[0]"
   ]
  },
  {
   "cell_type": "code",
   "execution_count": 26,
   "id": "eea0c9a3",
   "metadata": {},
   "outputs": [
    {
     "data": {
      "text/plain": [
       "58683"
      ]
     },
     "execution_count": 26,
     "metadata": {},
     "output_type": "execute_result"
    }
   ],
   "source": [
    "client1_df.shape[0] + client2_df.shape[0] + client3_df.shape[0]"
   ]
  },
  {
   "cell_type": "code",
   "execution_count": 32,
   "id": "2169dab8",
   "metadata": {},
   "outputs": [
    {
     "data": {
      "text/html": [
       "<div>\n",
       "<style scoped>\n",
       "    .dataframe tbody tr th:only-of-type {\n",
       "        vertical-align: middle;\n",
       "    }\n",
       "\n",
       "    .dataframe tbody tr th {\n",
       "        vertical-align: top;\n",
       "    }\n",
       "\n",
       "    .dataframe thead th {\n",
       "        text-align: right;\n",
       "    }\n",
       "</style>\n",
       "<table border=\"1\" class=\"dataframe\">\n",
       "  <thead>\n",
       "    <tr style=\"text-align: right;\">\n",
       "      <th></th>\n",
       "      <th>IGJ</th>\n",
       "      <th>LOC100293211</th>\n",
       "      <th>LOC102725018</th>\n",
       "      <th>DERL3</th>\n",
       "      <th>MZB1</th>\n",
       "      <th>CXCL13</th>\n",
       "      <th>CST3</th>\n",
       "      <th>LYZ</th>\n",
       "      <th>RN7SK</th>\n",
       "      <th>IGLL5</th>\n",
       "      <th>...</th>\n",
       "      <th>LIMCH1</th>\n",
       "      <th>CLEC5A</th>\n",
       "      <th>IL6</th>\n",
       "      <th>ANXA13</th>\n",
       "      <th>CRIP2</th>\n",
       "      <th>ZNF812</th>\n",
       "      <th>CST6</th>\n",
       "      <th>ACP5</th>\n",
       "      <th>COTL1</th>\n",
       "      <th>TNFAIP3</th>\n",
       "    </tr>\n",
       "  </thead>\n",
       "  <tbody>\n",
       "    <tr>\n",
       "      <th>LN1_AAACCTGCACGACGAA-1</th>\n",
       "      <td>0.0</td>\n",
       "      <td>0.0</td>\n",
       "      <td>0.0</td>\n",
       "      <td>0.0</td>\n",
       "      <td>0.0</td>\n",
       "      <td>0.0</td>\n",
       "      <td>0.000000</td>\n",
       "      <td>0.0</td>\n",
       "      <td>1.475897</td>\n",
       "      <td>0.0</td>\n",
       "      <td>...</td>\n",
       "      <td>0.0</td>\n",
       "      <td>0.0</td>\n",
       "      <td>0.0</td>\n",
       "      <td>0.0</td>\n",
       "      <td>0.0</td>\n",
       "      <td>0.0</td>\n",
       "      <td>0.0</td>\n",
       "      <td>1.475897</td>\n",
       "      <td>2.409183</td>\n",
       "      <td>0.000000</td>\n",
       "    </tr>\n",
       "    <tr>\n",
       "      <th>LN1_AAACCTGCATTCACTT-1</th>\n",
       "      <td>0.0</td>\n",
       "      <td>0.0</td>\n",
       "      <td>0.0</td>\n",
       "      <td>0.0</td>\n",
       "      <td>0.0</td>\n",
       "      <td>0.0</td>\n",
       "      <td>0.000000</td>\n",
       "      <td>0.0</td>\n",
       "      <td>0.000000</td>\n",
       "      <td>0.0</td>\n",
       "      <td>...</td>\n",
       "      <td>0.0</td>\n",
       "      <td>0.0</td>\n",
       "      <td>0.0</td>\n",
       "      <td>0.0</td>\n",
       "      <td>0.0</td>\n",
       "      <td>0.0</td>\n",
       "      <td>0.0</td>\n",
       "      <td>0.000000</td>\n",
       "      <td>1.756799</td>\n",
       "      <td>0.000000</td>\n",
       "    </tr>\n",
       "    <tr>\n",
       "      <th>LN1_AAACCTGGTCAAAGCG-1</th>\n",
       "      <td>0.0</td>\n",
       "      <td>0.0</td>\n",
       "      <td>0.0</td>\n",
       "      <td>0.0</td>\n",
       "      <td>0.0</td>\n",
       "      <td>0.0</td>\n",
       "      <td>0.000000</td>\n",
       "      <td>0.0</td>\n",
       "      <td>0.000000</td>\n",
       "      <td>0.0</td>\n",
       "      <td>...</td>\n",
       "      <td>0.0</td>\n",
       "      <td>0.0</td>\n",
       "      <td>0.0</td>\n",
       "      <td>0.0</td>\n",
       "      <td>0.0</td>\n",
       "      <td>0.0</td>\n",
       "      <td>0.0</td>\n",
       "      <td>0.000000</td>\n",
       "      <td>0.000000</td>\n",
       "      <td>0.000000</td>\n",
       "    </tr>\n",
       "    <tr>\n",
       "      <th>LN1_AAACCTGTCCCGGATG-1</th>\n",
       "      <td>0.0</td>\n",
       "      <td>0.0</td>\n",
       "      <td>0.0</td>\n",
       "      <td>0.0</td>\n",
       "      <td>0.0</td>\n",
       "      <td>0.0</td>\n",
       "      <td>1.648982</td>\n",
       "      <td>0.0</td>\n",
       "      <td>0.000000</td>\n",
       "      <td>0.0</td>\n",
       "      <td>...</td>\n",
       "      <td>0.0</td>\n",
       "      <td>0.0</td>\n",
       "      <td>0.0</td>\n",
       "      <td>0.0</td>\n",
       "      <td>0.0</td>\n",
       "      <td>0.0</td>\n",
       "      <td>0.0</td>\n",
       "      <td>0.000000</td>\n",
       "      <td>0.000000</td>\n",
       "      <td>2.241067</td>\n",
       "    </tr>\n",
       "    <tr>\n",
       "      <th>LN1_AAACCTGTCCTAGGGC-1</th>\n",
       "      <td>0.0</td>\n",
       "      <td>0.0</td>\n",
       "      <td>0.0</td>\n",
       "      <td>0.0</td>\n",
       "      <td>0.0</td>\n",
       "      <td>0.0</td>\n",
       "      <td>0.000000</td>\n",
       "      <td>0.0</td>\n",
       "      <td>0.000000</td>\n",
       "      <td>0.0</td>\n",
       "      <td>...</td>\n",
       "      <td>0.0</td>\n",
       "      <td>0.0</td>\n",
       "      <td>0.0</td>\n",
       "      <td>0.0</td>\n",
       "      <td>0.0</td>\n",
       "      <td>0.0</td>\n",
       "      <td>0.0</td>\n",
       "      <td>0.000000</td>\n",
       "      <td>0.000000</td>\n",
       "      <td>0.000000</td>\n",
       "    </tr>\n",
       "  </tbody>\n",
       "</table>\n",
       "<p>5 rows × 500 columns</p>\n",
       "</div>"
      ],
      "text/plain": [
       "                        IGJ  LOC100293211  LOC102725018  DERL3  MZB1  CXCL13  \\\n",
       "LN1_AAACCTGCACGACGAA-1  0.0           0.0           0.0    0.0   0.0     0.0   \n",
       "LN1_AAACCTGCATTCACTT-1  0.0           0.0           0.0    0.0   0.0     0.0   \n",
       "LN1_AAACCTGGTCAAAGCG-1  0.0           0.0           0.0    0.0   0.0     0.0   \n",
       "LN1_AAACCTGTCCCGGATG-1  0.0           0.0           0.0    0.0   0.0     0.0   \n",
       "LN1_AAACCTGTCCTAGGGC-1  0.0           0.0           0.0    0.0   0.0     0.0   \n",
       "\n",
       "                            CST3  LYZ     RN7SK  IGLL5  ...  LIMCH1  CLEC5A  \\\n",
       "LN1_AAACCTGCACGACGAA-1  0.000000  0.0  1.475897    0.0  ...     0.0     0.0   \n",
       "LN1_AAACCTGCATTCACTT-1  0.000000  0.0  0.000000    0.0  ...     0.0     0.0   \n",
       "LN1_AAACCTGGTCAAAGCG-1  0.000000  0.0  0.000000    0.0  ...     0.0     0.0   \n",
       "LN1_AAACCTGTCCCGGATG-1  1.648982  0.0  0.000000    0.0  ...     0.0     0.0   \n",
       "LN1_AAACCTGTCCTAGGGC-1  0.000000  0.0  0.000000    0.0  ...     0.0     0.0   \n",
       "\n",
       "                        IL6  ANXA13  CRIP2  ZNF812  CST6      ACP5     COTL1  \\\n",
       "LN1_AAACCTGCACGACGAA-1  0.0     0.0    0.0     0.0   0.0  1.475897  2.409183   \n",
       "LN1_AAACCTGCATTCACTT-1  0.0     0.0    0.0     0.0   0.0  0.000000  1.756799   \n",
       "LN1_AAACCTGGTCAAAGCG-1  0.0     0.0    0.0     0.0   0.0  0.000000  0.000000   \n",
       "LN1_AAACCTGTCCCGGATG-1  0.0     0.0    0.0     0.0   0.0  0.000000  0.000000   \n",
       "LN1_AAACCTGTCCTAGGGC-1  0.0     0.0    0.0     0.0   0.0  0.000000  0.000000   \n",
       "\n",
       "                         TNFAIP3  \n",
       "LN1_AAACCTGCACGACGAA-1  0.000000  \n",
       "LN1_AAACCTGCATTCACTT-1  0.000000  \n",
       "LN1_AAACCTGGTCAAAGCG-1  0.000000  \n",
       "LN1_AAACCTGTCCCGGATG-1  2.241067  \n",
       "LN1_AAACCTGTCCTAGGGC-1  0.000000  \n",
       "\n",
       "[5 rows x 500 columns]"
      ]
     },
     "execution_count": 32,
     "metadata": {},
     "output_type": "execute_result"
    }
   ],
   "source": [
    "client1_df.head()"
   ]
  },
  {
   "cell_type": "code",
   "execution_count": 27,
   "id": "ddcc5e2d",
   "metadata": {},
   "outputs": [],
   "source": [
    "# save to csv\n",
    "client1_df.to_csv(\"client1_iid_NAT.csv\", index = False)\n",
    "client2_df.to_csv(\"client2_iid_NAT.csv\", index = False)\n",
    "client3_df.to_csv(\"client3_iid_NAT.csv\", index = False)"
   ]
  },
  {
   "cell_type": "markdown",
   "id": "ebed9da8",
   "metadata": {},
   "source": [
    "## non-IID: NAT cells only"
   ]
  },
  {
   "cell_type": "code",
   "execution_count": 28,
   "id": "7e38a9b9",
   "metadata": {},
   "outputs": [],
   "source": [
    "client1_patients = ['Lung1', 'Lung2', 'Endo1', 'Endo2', 'Endo3']\n",
    "client2_patients = ['Lung3', 'Lung4', 'Colon1', 'Colon2']\n",
    "client3_patients = ['Lung5', 'Lung6', 'Renal1', 'Renal2', 'Renal3'] \n",
    "\n",
    "# subset for only the NAT cells/discard cancer cells\n",
    "client1_idx = metadata.loc[metadata['status'] == 'NAT'].loc[metadata['patient'].isin(client1_patients)]\n",
    "client1_df = df.iloc[client1_idx.index.values - 1, :] # index column is 1-indexed, hence the -1\n",
    "\n",
    "client2_idx = patients.loc[metadata['status'] == 'NAT'].loc[metadata['patient'].isin(client2_patients)]\n",
    "client2_df = df.iloc[client2_idx.index.values - 1, :]\n",
    "\n",
    "client3_idx = patients.loc[metadata['status'] == 'NAT'].loc[metadata['patient'].isin(client3_patients)]\n",
    "client3_df = df.iloc[client3_idx.index.values - 1, :]"
   ]
  },
  {
   "cell_type": "code",
   "execution_count": 29,
   "id": "50342cba",
   "metadata": {},
   "outputs": [
    {
     "data": {
      "text/plain": [
       "(20479, 18879, 19325)"
      ]
     },
     "execution_count": 29,
     "metadata": {},
     "output_type": "execute_result"
    }
   ],
   "source": [
    "client1_df.shape[0], client2_df.shape[0], client3_df.shape[0]"
   ]
  },
  {
   "cell_type": "code",
   "execution_count": 30,
   "id": "749d35db",
   "metadata": {},
   "outputs": [
    {
     "data": {
      "text/plain": [
       "58683"
      ]
     },
     "execution_count": 30,
     "metadata": {},
     "output_type": "execute_result"
    }
   ],
   "source": [
    "client1_df.shape[0] + client2_df.shape[0] + client3_df.shape[0]"
   ]
  },
  {
   "cell_type": "code",
   "execution_count": 31,
   "id": "20f332d7",
   "metadata": {},
   "outputs": [],
   "source": [
    "# save to csv\n",
    "client1_df.to_csv(\"client1_niid_NAT.csv\", index = False)\n",
    "client2_df.to_csv(\"client2_niid_NAT.csv\", index = False)\n",
    "client3_df.to_csv(\"client3_niid_NAT.csv\", index = False)"
   ]
  },
  {
   "cell_type": "markdown",
   "id": "1edcd34f",
   "metadata": {},
   "source": [
    "## IID separation: everyone gets patients from (almost) every cancer type"
   ]
  },
  {
   "cell_type": "code",
   "execution_count": 14,
   "id": "e855ef67",
   "metadata": {},
   "outputs": [
    {
     "data": {
      "text/plain": [
       "array(['Lung1', 'Lung2', 'Lung3', 'Lung4', 'Lung5', 'Lung6', 'Endo1',\n",
       "       'Endo2', 'Endo3', 'Colon1', 'Colon2', 'Renal1', 'Renal2', 'Renal3'],\n",
       "      dtype=object)"
      ]
     },
     "execution_count": 14,
     "metadata": {},
     "output_type": "execute_result"
    }
   ],
   "source": [
    "patients['patient'].unique()"
   ]
  },
  {
   "cell_type": "code",
   "execution_count": 67,
   "id": "a0cb97f2",
   "metadata": {},
   "outputs": [],
   "source": [
    "# define which client has which patients\n",
    "client1_patients = ['Lung1', 'Lung2', 'Endo1', 'Colon1', 'Renal1']\n",
    "client2_patients = ['Lung3', 'Lung4', 'Endo2', 'Colon2', 'Renal2']\n",
    "client3_patients = ['Lung5', 'Lung6', 'Endo3', 'Renal3'] # only 2 patients with colon\n",
    "\n",
    "client1_idx = patients.loc[patients['patient'].isin(client1_patients)]\n",
    "client1_df = df.iloc[client1_idx.index.values - 1, :] # index column is 1-indexed, hence the -1\n",
    "\n",
    "client2_idx = patients.loc[patients['patient'].isin(client2_patients)]\n",
    "client2_df = df.iloc[client2_idx.index.values - 1, :]\n",
    "\n",
    "client3_idx = patients.loc[patients['patient'].isin(client3_patients)]\n",
    "client3_df = df.iloc[client3_idx.index.values - 1, :]"
   ]
  },
  {
   "cell_type": "code",
   "execution_count": 68,
   "id": "65b380a9",
   "metadata": {},
   "outputs": [
    {
     "data": {
      "text/plain": [
       "(54555, 47573, 25460)"
      ]
     },
     "execution_count": 68,
     "metadata": {},
     "output_type": "execute_result"
    }
   ],
   "source": [
    "client1_df.shape[0], client2_df.shape[0], client3_df.shape[0]"
   ]
  },
  {
   "cell_type": "code",
   "execution_count": 69,
   "id": "9bf6e09a",
   "metadata": {
    "scrolled": true
   },
   "outputs": [
    {
     "data": {
      "text/plain": [
       "127588"
      ]
     },
     "execution_count": 69,
     "metadata": {},
     "output_type": "execute_result"
    }
   ],
   "source": [
    "client1_df.shape[0] + client2_df.shape[0] +  client3_df.shape[0]"
   ]
  },
  {
   "cell_type": "code",
   "execution_count": 70,
   "id": "e978bd57",
   "metadata": {},
   "outputs": [],
   "source": [
    "# save to csv\n",
    "client1_df.to_csv(\"client1_iid.csv\", index = False)\n",
    "client2_df.to_csv(\"client2_iid.csv\", index = False)\n",
    "client3_df.to_csv(\"client3_iid.csv\", index = False)"
   ]
  },
  {
   "cell_type": "markdown",
   "id": "330e9d79",
   "metadata": {},
   "source": [
    "## non-IID separation: everyone gets one from Endo/colon/renal, lung is split between all 3"
   ]
  },
  {
   "cell_type": "code",
   "execution_count": 71,
   "id": "7c56a75b",
   "metadata": {},
   "outputs": [],
   "source": [
    "# define which client has which patients\n",
    "client1_patients = ['Lung1', 'Lung2', 'Endo1', 'Endo2', 'Endo3']\n",
    "client2_patients = ['Lung3', 'Lung4', 'Colon1', 'Colon2']\n",
    "client3_patients = ['Lung5', 'Lung6', 'Renal1', 'Renal2', 'Renal3'] # only 2 patients with colon\n",
    "\n",
    "client1_idx = patients.loc[patients['patient'].isin(client1_patients)]\n",
    "client1_df = df.iloc[client1_idx.index.values - 1, :] # index column is 1-indexed, hence the -1\n",
    "\n",
    "client2_idx = patients.loc[patients['patient'].isin(client2_patients)]\n",
    "client2_df = df.iloc[client2_idx.index.values - 1, :]\n",
    "\n",
    "client3_idx = patients.loc[patients['patient'].isin(client3_patients)]\n",
    "client3_df = df.iloc[client3_idx.index.values - 1, :]"
   ]
  },
  {
   "cell_type": "code",
   "execution_count": 72,
   "id": "2d0a9353",
   "metadata": {},
   "outputs": [
    {
     "data": {
      "text/plain": [
       "(58572, 37009, 32007)"
      ]
     },
     "execution_count": 72,
     "metadata": {},
     "output_type": "execute_result"
    }
   ],
   "source": [
    "client1_df.shape[0], client2_df.shape[0], client3_df.shape[0]"
   ]
  },
  {
   "cell_type": "code",
   "execution_count": 73,
   "id": "0adc567a",
   "metadata": {},
   "outputs": [
    {
     "data": {
      "text/plain": [
       "127588"
      ]
     },
     "execution_count": 73,
     "metadata": {},
     "output_type": "execute_result"
    }
   ],
   "source": [
    "client1_df.shape[0] + client2_df.shape[0] +  client3_df.shape[0]"
   ]
  },
  {
   "cell_type": "code",
   "execution_count": 74,
   "id": "40bca890",
   "metadata": {},
   "outputs": [],
   "source": [
    "# save to csv\n",
    "client1_df.to_csv(\"client1_noniid.csv\", index = False)\n",
    "client2_df.to_csv(\"client2_noniid.csv\", index = False)\n",
    "client3_df.to_csv(\"client3_noniid.csv\", index = False)"
   ]
  },
  {
   "cell_type": "code",
   "execution_count": null,
   "id": "a647ef72",
   "metadata": {},
   "outputs": [],
   "source": []
  }
 ],
 "metadata": {
  "kernelspec": {
   "display_name": "Python 3 (ipykernel)",
   "language": "python",
   "name": "python3"
  },
  "language_info": {
   "codemirror_mode": {
    "name": "ipython",
    "version": 3
   },
   "file_extension": ".py",
   "mimetype": "text/x-python",
   "name": "python",
   "nbconvert_exporter": "python",
   "pygments_lexer": "ipython3",
   "version": "3.7.10"
  }
 },
 "nbformat": 4,
 "nbformat_minor": 5
}
