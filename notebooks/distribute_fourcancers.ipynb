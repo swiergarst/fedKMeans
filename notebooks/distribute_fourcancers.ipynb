{
 "cells": [
  {
   "cell_type": "code",
   "execution_count": 1,
   "id": "47e71f01",
   "metadata": {},
   "outputs": [],
   "source": [
    "import matplotlib.pyplot as plt\n",
    "import numpy as np\n",
    "import pandas as pd"
   ]
  },
  {
   "cell_type": "code",
   "execution_count": 2,
   "id": "2631fe1f",
   "metadata": {},
   "outputs": [],
   "source": [
    "# import raw data (may take a while)\n",
    "df = pd.read_csv(\"../data/fourcancers/fourcancers_orig.csv\", index_col = 0)"
   ]
  },
  {
   "cell_type": "code",
   "execution_count": 3,
   "id": "a500c664",
   "metadata": {},
   "outputs": [
    {
     "data": {
      "text/plain": [
       "(500, 127588)"
      ]
     },
     "execution_count": 3,
     "metadata": {},
     "output_type": "execute_result"
    }
   ],
   "source": [
    "df.shape"
   ]
  },
  {
   "cell_type": "code",
   "execution_count": 4,
   "id": "caf4fae9",
   "metadata": {},
   "outputs": [],
   "source": [
    "df = df.transpose()"
   ]
  },
  {
   "cell_type": "code",
   "execution_count": 5,
   "id": "ee3f41b3",
   "metadata": {},
   "outputs": [],
   "source": [
    "#import metadata\n",
    "patients = pd.read_csv(\"../data/fourcancers/patients.csv\", index_col = 0)\n",
    "status = pd.read_csv(\"../data/fourcancers/status.csv\", index_col = 0)\n",
    "celltype = pd.read_csv(\"../data/fourcancers/celltype.csv\", index_col = 0)\n",
    "\n"
   ]
  },
  {
   "cell_type": "code",
   "execution_count": 6,
   "id": "ddafbb31",
   "metadata": {},
   "outputs": [],
   "source": [
    "patients['patient'] = patients['x']\n",
    "patients = patients.drop(columns = ['x'])"
   ]
  },
  {
   "cell_type": "code",
   "execution_count": 32,
   "id": "48176b65",
   "metadata": {},
   "outputs": [
    {
     "data": {
      "text/plain": [
       "Lung3     18283\n",
       "Endo1     17604\n",
       "Lung2     14860\n",
       "Lung4     13919\n",
       "Lung1     13015\n",
       "Lung6     10477\n",
       "Endo2      7565\n",
       "Renal2     7036\n",
       "Lung5      6592\n",
       "Endo3      5528\n",
       "Renal1     5039\n",
       "Colon1     4037\n",
       "Renal3     2863\n",
       "Colon2      770\n",
       "Name: patient, dtype: int64"
      ]
     },
     "execution_count": 32,
     "metadata": {},
     "output_type": "execute_result"
    }
   ],
   "source": [
    "patients['patient'].value_counts()"
   ]
  },
  {
   "cell_type": "code",
   "execution_count": 9,
   "id": "52ff0a79",
   "metadata": {},
   "outputs": [],
   "source": [
    "df['patient'] = patients['patient']"
   ]
  },
  {
   "cell_type": "markdown",
   "id": "1edcd34f",
   "metadata": {},
   "source": [
    "## IID separation: everyone gets patients from (almost) every cancer type"
   ]
  },
  {
   "cell_type": "code",
   "execution_count": 14,
   "id": "e855ef67",
   "metadata": {},
   "outputs": [
    {
     "data": {
      "text/plain": [
       "array(['Lung1', 'Lung2', 'Lung3', 'Lung4', 'Lung5', 'Lung6', 'Endo1',\n",
       "       'Endo2', 'Endo3', 'Colon1', 'Colon2', 'Renal1', 'Renal2', 'Renal3'],\n",
       "      dtype=object)"
      ]
     },
     "execution_count": 14,
     "metadata": {},
     "output_type": "execute_result"
    }
   ],
   "source": [
    "patients['patient'].unique()"
   ]
  },
  {
   "cell_type": "code",
   "execution_count": 67,
   "id": "a0cb97f2",
   "metadata": {},
   "outputs": [],
   "source": [
    "# define which client has which patients\n",
    "client1_patients = ['Lung1', 'Lung2', 'Endo1', 'Colon1', 'Renal1']\n",
    "client2_patients = ['Lung3', 'Lung4', 'Endo2', 'Colon2', 'Renal2']\n",
    "client3_patients = ['Lung5', 'Lung6', 'Endo3', 'Renal3'] # only 2 patients with colon\n",
    "\n",
    "client1_idx = patients.loc[patients['patient'].isin(client1_patients)]\n",
    "client1_df = df.iloc[client1_idx.index.values - 1, :] # index column is 1-indexed, hence the -1\n",
    "\n",
    "client2_idx = patients.loc[patients['patient'].isin(client2_patients)]\n",
    "client2_df = df.iloc[client2_idx.index.values - 1, :]\n",
    "\n",
    "client3_idx = patients.loc[patients['patient'].isin(client3_patients)]\n",
    "client3_df = df.iloc[client3_idx.index.values - 1, :]"
   ]
  },
  {
   "cell_type": "code",
   "execution_count": 68,
   "id": "65b380a9",
   "metadata": {},
   "outputs": [
    {
     "data": {
      "text/plain": [
       "(54555, 47573, 25460)"
      ]
     },
     "execution_count": 68,
     "metadata": {},
     "output_type": "execute_result"
    }
   ],
   "source": [
    "client1_df.shape[0], client2_df.shape[0], client3_df.shape[0]"
   ]
  },
  {
   "cell_type": "code",
   "execution_count": 69,
   "id": "9bf6e09a",
   "metadata": {
    "scrolled": true
   },
   "outputs": [
    {
     "data": {
      "text/plain": [
       "127588"
      ]
     },
     "execution_count": 69,
     "metadata": {},
     "output_type": "execute_result"
    }
   ],
   "source": [
    "client1_df.shape[0] + client2_df.shape[0] +  client3_df.shape[0]"
   ]
  },
  {
   "cell_type": "code",
   "execution_count": 70,
   "id": "e978bd57",
   "metadata": {},
   "outputs": [],
   "source": [
    "# save to csv\n",
    "client1_df.to_csv(\"client1_iid.csv\", index = False)\n",
    "client2_df.to_csv(\"client2_iid.csv\", index = False)\n",
    "client3_df.to_csv(\"client3_iid.csv\", index = False)"
   ]
  },
  {
   "cell_type": "markdown",
   "id": "330e9d79",
   "metadata": {},
   "source": [
    "## non-IID separation: everyone gets one from Endo/colon/renal, lung is split between all 3"
   ]
  },
  {
   "cell_type": "code",
   "execution_count": 71,
   "id": "7c56a75b",
   "metadata": {},
   "outputs": [],
   "source": [
    "# define which client has which patients\n",
    "client1_patients = ['Lung1', 'Lung2', 'Endo1', 'Endo2', 'Endo3']\n",
    "client2_patients = ['Lung3', 'Lung4', 'Colon1', 'Colon2']\n",
    "client3_patients = ['Lung5', 'Lung6', 'Renal1', 'Renal2', 'Renal3'] # only 2 patients with colon\n",
    "\n",
    "client1_idx = patients.loc[patients['patient'].isin(client1_patients)]\n",
    "client1_df = df.iloc[client1_idx.index.values - 1, :] # index column is 1-indexed, hence the -1\n",
    "\n",
    "client2_idx = patients.loc[patients['patient'].isin(client2_patients)]\n",
    "client2_df = df.iloc[client2_idx.index.values - 1, :]\n",
    "\n",
    "client3_idx = patients.loc[patients['patient'].isin(client3_patients)]\n",
    "client3_df = df.iloc[client3_idx.index.values - 1, :]"
   ]
  },
  {
   "cell_type": "code",
   "execution_count": 72,
   "id": "2d0a9353",
   "metadata": {},
   "outputs": [
    {
     "data": {
      "text/plain": [
       "(58572, 37009, 32007)"
      ]
     },
     "execution_count": 72,
     "metadata": {},
     "output_type": "execute_result"
    }
   ],
   "source": [
    "client1_df.shape[0], client2_df.shape[0], client3_df.shape[0]"
   ]
  },
  {
   "cell_type": "code",
   "execution_count": 73,
   "id": "0adc567a",
   "metadata": {},
   "outputs": [
    {
     "data": {
      "text/plain": [
       "127588"
      ]
     },
     "execution_count": 73,
     "metadata": {},
     "output_type": "execute_result"
    }
   ],
   "source": [
    "client1_df.shape[0] + client2_df.shape[0] +  client3_df.shape[0]"
   ]
  },
  {
   "cell_type": "code",
   "execution_count": 74,
   "id": "40bca890",
   "metadata": {},
   "outputs": [],
   "source": [
    "# save to csv\n",
    "client1_df.to_csv(\"client1_noniid.csv\", index = False)\n",
    "client2_df.to_csv(\"client2_noniid.csv\", index = False)\n",
    "client3_df.to_csv(\"client3_noniid.csv\", index = False)"
   ]
  },
  {
   "cell_type": "code",
   "execution_count": null,
   "id": "a647ef72",
   "metadata": {},
   "outputs": [],
   "source": []
  }
 ],
 "metadata": {
  "kernelspec": {
   "display_name": "Python 3 (ipykernel)",
   "language": "python",
   "name": "python3"
  },
  "language_info": {
   "codemirror_mode": {
    "name": "ipython",
    "version": 3
   },
   "file_extension": ".py",
   "mimetype": "text/x-python",
   "name": "python",
   "nbconvert_exporter": "python",
   "pygments_lexer": "ipython3",
   "version": "3.7.10"
  }
 },
 "nbformat": 4,
 "nbformat_minor": 5
}
