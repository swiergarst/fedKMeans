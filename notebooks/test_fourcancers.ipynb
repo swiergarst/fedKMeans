{
 "cells": [
  {
   "cell_type": "code",
   "execution_count": 9,
   "id": "d0a63cb0",
   "metadata": {},
   "outputs": [],
   "source": [
    "import numpy as np\n",
    "import matplotlib.pyplot as plt\n",
    "import pandas as pd\n",
    "from sklearn.cluster import KMeans\n",
    "import sys\n",
    "sys.path.append(\"..\")\n",
    "from common import *\n",
    "from sklearn.metrics import silhouette_score\n",
    "from sklearn.decomposition import PCA"
   ]
  },
  {
   "cell_type": "code",
   "execution_count": 34,
   "id": "674aa40d",
   "metadata": {},
   "outputs": [],
   "source": [
    "c1_NAT = pd.read_csv(\"../data/fourcancers/client1_iid_Tumor.csv\")\n",
    "c2_NAT = pd.read_csv(\"../data/fourcancers/client2_iid_Tumor.csv\")\n",
    "c3_NAT = pd.read_csv(\"../data/fourcancers/client3_iid_Tumor.csv\")"
   ]
  },
  {
   "cell_type": "code",
   "execution_count": 35,
   "id": "f5fa61fc",
   "metadata": {},
   "outputs": [],
   "source": [
    "allc_NAT = pd.concat((c1_NAT, c2_NAT, c3_NAT))"
   ]
  },
  {
   "cell_type": "code",
   "execution_count": 36,
   "id": "f86d0b12",
   "metadata": {},
   "outputs": [],
   "source": [
    "km = KMeans(n_clusters = 4)\n",
    "km.fit(allc_NAT.values)\n",
    "\n",
    "score = silhouette_score(allc_NAT.values, km.predict(allc_NAT.values))"
   ]
  },
  {
   "cell_type": "code",
   "execution_count": 37,
   "id": "ce335220",
   "metadata": {},
   "outputs": [
    {
     "data": {
      "text/plain": [
       "0.042476303399053644"
      ]
     },
     "execution_count": 37,
     "metadata": {},
     "output_type": "execute_result"
    }
   ],
   "source": [
    "score"
   ]
  },
  {
   "cell_type": "code",
   "execution_count": 38,
   "id": "3798c2ba",
   "metadata": {},
   "outputs": [],
   "source": [
    "NAT_PCA = PCA(n_components = 10).fit_transform(allc_NAT.values)\n",
    "\n",
    "km = KMeans(n_clusters = 4)\n",
    "km.fit(NAT_PCA)\n",
    "\n",
    "score_pca = silhouette_score(NAT_PCA, km.predict(NAT_PCA))"
   ]
  },
  {
   "cell_type": "code",
   "execution_count": 39,
   "id": "6a84c9b9",
   "metadata": {},
   "outputs": [
    {
     "data": {
      "text/plain": [
       "0.14990772773621652"
      ]
     },
     "execution_count": 39,
     "metadata": {},
     "output_type": "execute_result"
    }
   ],
   "source": [
    "score_pca"
   ]
  },
  {
   "cell_type": "code",
   "execution_count": null,
   "id": "55f30454",
   "metadata": {},
   "outputs": [],
   "source": []
  },
  {
   "cell_type": "code",
   "execution_count": 2,
   "id": "d62549ba",
   "metadata": {},
   "outputs": [],
   "source": [
    "all_data = pd.read_csv(\"../data/fourcancers/fourcancers_orig.csv\", index_col = 0)"
   ]
  },
  {
   "cell_type": "code",
   "execution_count": 3,
   "id": "2bf9ccba",
   "metadata": {},
   "outputs": [],
   "source": [
    "all_data = all_data.transpose()"
   ]
  },
  {
   "cell_type": "code",
   "execution_count": 6,
   "id": "7562ffe0",
   "metadata": {},
   "outputs": [],
   "source": [
    "data_arr = all_data.values"
   ]
  },
  {
   "cell_type": "code",
   "execution_count": 10,
   "id": "75ef8e43",
   "metadata": {},
   "outputs": [],
   "source": [
    "data_pca = PCA(n_components = 10).fit_transform(data_arr)"
   ]
  },
  {
   "cell_type": "code",
   "execution_count": 11,
   "id": "4e31a2ee",
   "metadata": {},
   "outputs": [
    {
     "data": {
      "text/plain": [
       "(127588, 10)"
      ]
     },
     "execution_count": 11,
     "metadata": {},
     "output_type": "execute_result"
    }
   ],
   "source": [
    "data_pca.shape"
   ]
  },
  {
   "cell_type": "code",
   "execution_count": 15,
   "id": "7be52505",
   "metadata": {},
   "outputs": [],
   "source": [
    "km = KMeans(n_clusters = 8)\n",
    "km.fit(data_arr)\n",
    "\n",
    "score = silhouette_score(data_arr, km.predict(data_arr))"
   ]
  },
  {
   "cell_type": "code",
   "execution_count": 12,
   "id": "73f2e78b",
   "metadata": {},
   "outputs": [
    {
     "data": {
      "text/plain": [
       "0.039674633535703926"
      ]
     },
     "execution_count": 12,
     "metadata": {},
     "output_type": "execute_result"
    }
   ],
   "source": [
    "silhouette_score(data_arr, km.predict(data_arr))"
   ]
  },
  {
   "cell_type": "code",
   "execution_count": 18,
   "id": "faf2386d",
   "metadata": {},
   "outputs": [],
   "source": [
    "km = KMeans(n_clusters = 8)\n",
    "km.fit(data_pca)\n",
    "\n",
    "score_pca = silhouette_score(data_pca, km.predict(data_pca))"
   ]
  },
  {
   "cell_type": "code",
   "execution_count": 19,
   "id": "1d8009c6",
   "metadata": {},
   "outputs": [
    {
     "data": {
      "text/plain": [
       "(0.026345704019680193, 0.12779536098731403)"
      ]
     },
     "execution_count": 19,
     "metadata": {},
     "output_type": "execute_result"
    }
   ],
   "source": [
    "score, score_pca"
   ]
  },
  {
   "cell_type": "code",
   "execution_count": 14,
   "id": "c9d567e6",
   "metadata": {},
   "outputs": [
    {
     "data": {
      "text/plain": [
       "0.13771047548469706"
      ]
     },
     "execution_count": 14,
     "metadata": {},
     "output_type": "execute_result"
    }
   ],
   "source": [
    "score"
   ]
  }
 ],
 "metadata": {
  "kernelspec": {
   "display_name": "Python 3 (ipykernel)",
   "language": "python",
   "name": "python3"
  },
  "language_info": {
   "codemirror_mode": {
    "name": "ipython",
    "version": 3
   },
   "file_extension": ".py",
   "mimetype": "text/x-python",
   "name": "python",
   "nbconvert_exporter": "python",
   "pygments_lexer": "ipython3",
   "version": "3.7.10"
  }
 },
 "nbformat": 4,
 "nbformat_minor": 5
}
