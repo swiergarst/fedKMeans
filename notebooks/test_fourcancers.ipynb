{
 "cells": [
  {
   "cell_type": "code",
   "execution_count": 4,
   "id": "6f538116",
   "metadata": {},
   "outputs": [],
   "source": [
    "import numpy as np\n",
    "import matplotlib.pyplot as plt\n",
    "import pandas as pd\n",
    "from sklearn.cluster import KMeans\n",
    "import sys\n",
    "sys.path.append(\"..\")\n",
    "from common import *\n",
    "from sklearn.metrics import silhouette_score\n",
    "from sklearn.decomposition import PCA"
   ]
  },
  {
   "cell_type": "code",
   "execution_count": 5,
   "id": "c1e988d1",
   "metadata": {},
   "outputs": [],
   "source": [
    "c1_NAT = pd.read_csv(\"../data/fourcancers/client1_iid_Tumor.csv\")\n",
    "c2_NAT = pd.read_csv(\"../data/fourcancers/client2_iid_Tumor.csv\")\n",
    "c3_NAT = pd.read_csv(\"../data/fourcancers/client3_iid_Tumor.csv\")"
   ]
  },
  {
   "cell_type": "code",
   "execution_count": 6,
   "id": "4e4fb969",
   "metadata": {},
   "outputs": [],
   "source": [
    "allc_NAT = pd.concat((c1_NAT, c2_NAT, c3_NAT))"
   ]
  },
  {
   "cell_type": "code",
   "execution_count": 36,
   "id": "c615a36f",
   "metadata": {},
   "outputs": [],
   "source": [
    "km = KMeans(n_clusters = 4)\n",
    "km.fit(allc_NAT.values)\n",
    "\n",
    "score = silhouette_score(allc_NAT.values, km.predict(allc_NAT.values))"
   ]
  },
  {
   "cell_type": "code",
   "execution_count": 37,
   "id": "00901e2a",
   "metadata": {},
   "outputs": [
    {
     "data": {
      "text/plain": [
       "0.042476303399053644"
      ]
     },
     "execution_count": 37,
     "metadata": {},
     "output_type": "execute_result"
    }
   ],
   "source": [
    "score"
   ]
  },
  {
   "cell_type": "code",
   "execution_count": 7,
   "id": "1aa84fff",
   "metadata": {},
   "outputs": [
    {
     "data": {
      "text/plain": [
       "PCA(n_components=100)"
      ]
     },
     "execution_count": 7,
     "metadata": {},
     "output_type": "execute_result"
    }
   ],
   "source": [
    "NAT_PCA = PCA(n_components = 100)\n",
    "\n",
    "NAT_PCA.fit(allc_NAT.values)\n"
   ]
  },
  {
   "cell_type": "code",
   "execution_count": 9,
   "id": "e1ac420b",
   "metadata": {},
   "outputs": [
    {
     "data": {
      "text/plain": [
       "[<matplotlib.lines.Line2D at 0x7f60e7a13a10>]"
      ]
     },
     "execution_count": 9,
     "metadata": {},
     "output_type": "execute_result"
    },
    {
     "data": {
      "image/png": "[encoded data removed]",
      "text/plain": [
       "<Figure size 640x480 with 1 Axes>"
      ]
     },
     "metadata": {},
     "output_type": "display_data"
    }
   ],
   "source": [
    "plt.plot(NAT_PCA.explained_variance_[:40])"
   ]
  },
  {
   "cell_type": "code",
   "execution_count": 11,
   "id": "ee13f9f0",
   "metadata": {},
   "outputs": [],
   "source": [
    "NAT_PCA = PCA(n_components = 5).fit_transform(allc_NAT.values)\n",
    "\n",
    "km = KMeans(n_clusters = 4)\n",
    "km.fit(NAT_PCA)\n",
    "\n",
    "scores_pca = silhouette_score(NAT_PCA, km.predict(NAT_PCA))"
   ]
  },
  {
   "cell_type": "code",
   "execution_count": 12,
   "id": "6c490afb",
   "metadata": {
    "scrolled": true
   },
   "outputs": [
    {
     "data": {
      "text/plain": [
       "0.21132326570253773"
      ]
     },
     "execution_count": 12,
     "metadata": {},
     "output_type": "execute_result"
    }
   ],
   "source": [
    "scores_pca"
   ]
  },
  {
   "cell_type": "code",
   "execution_count": 40,
   "id": "7859fc4f",
   "metadata": {},
   "outputs": [],
   "source": [
    "n_cluster_options = [4, 6, 8, 10, 12]\n",
    "\n",
    "\n",
    "NAT_PCA = PCA(n_components = 10).fit_transform(allc_NAT.values)\n",
    "scores_pca = np.zeros(len(n_cluster_options))\n",
    "\n",
    "for i, n_cluster in enumerate(n_cluster_options):  \n",
    "    km = KMeans(n_clusters = n_cluster)\n",
    "    km.fit(NAT_PCA)\n",
    "\n",
    "    scores_pca[i] = silhouette_score(NAT_PCA, km.predict(NAT_PCA))"
   ]
  },
  {
   "cell_type": "code",
   "execution_count": 7,
   "id": "cf1f394a",
   "metadata": {},
   "outputs": [
    {
     "ename": "NameError",
     "evalue": "name 'n_cluster_options' is not defined",
     "output_type": "error",
     "traceback": [
      "\u001b[0;31m---------------------------------------------------------------------------\u001b[0m",
      "\u001b[0;31mNameError\u001b[0m                                 Traceback (most recent call last)",
      "\u001b[0;32m/tmp/ipykernel_65322/2423160106.py\u001b[0m in \u001b[0;36m<module>\u001b[0;34m\u001b[0m\n\u001b[0;32m----> 1\u001b[0;31m \u001b[0mplt\u001b[0m\u001b[0;34m.\u001b[0m\u001b[0mplot\u001b[0m\u001b[0;34m(\u001b[0m\u001b[0mn_cluster_options\u001b[0m\u001b[0;34m,\u001b[0m\u001b[0mscores_pca\u001b[0m\u001b[0;34m,\u001b[0m \u001b[0;34m\".\"\u001b[0m\u001b[0;34m)\u001b[0m\u001b[0;34m\u001b[0m\u001b[0;34m\u001b[0m\u001b[0m\n\u001b[0m\u001b[1;32m      2\u001b[0m \u001b[0;31m# plt.xticks([0, 1, 2, 3, 4])\u001b[0m\u001b[0;34m\u001b[0m\u001b[0;34m\u001b[0m\u001b[0;34m\u001b[0m\u001b[0m\n",
      "\u001b[0;31mNameError\u001b[0m: name 'n_cluster_options' is not defined"
     ]
    }
   ],
   "source": [
    "plt.plot(n_cluster_options,scores_pca, \".\")\n",
    "# plt.xticks([0, 1, 2, 3, 4])"
   ]
  },
  {
   "cell_type": "code",
   "execution_count": 39,
   "id": "2ca4f79e",
   "metadata": {},
   "outputs": [
    {
     "data": {
      "text/plain": [
       "0.14990772773621652"
      ]
     },
     "execution_count": 39,
     "metadata": {},
     "output_type": "execute_result"
    }
   ],
   "source": [
    "score_pca"
   ]
  },
  {
   "cell_type": "code",
   "execution_count": null,
   "id": "d6f0a0cd",
   "metadata": {},
   "outputs": [],
   "source": []
  },
  {
   "cell_type": "code",
   "execution_count": 2,
   "id": "d4865bd0",
   "metadata": {},
   "outputs": [],
   "source": [
    "all_data = pd.read_csv(\"../data/fourcancers/fourcancers_orig.csv\", index_col = 0)"
   ]
  },
  {
   "cell_type": "code",
   "execution_count": 3,
   "id": "6a8c7674",
   "metadata": {},
   "outputs": [],
   "source": [
    "all_data = all_data.transpose()"
   ]
  },
  {
   "cell_type": "code",
   "execution_count": 6,
   "id": "e176d4e9",
   "metadata": {},
   "outputs": [],
   "source": [
    "data_arr = all_data.values"
   ]
  },
  {
   "cell_type": "code",
   "execution_count": 10,
   "id": "8e06475b",
   "metadata": {},
   "outputs": [],
   "source": [
    "data_pca = PCA(n_components = 10).fit_transform(data_arr)"
   ]
  },
  {
   "cell_type": "code",
   "execution_count": 11,
   "id": "fd13b0d7",
   "metadata": {},
   "outputs": [
    {
     "data": {
      "text/plain": [
       "(127588, 10)"
      ]
     },
     "execution_count": 11,
     "metadata": {},
     "output_type": "execute_result"
    }
   ],
   "source": [
    "data_pca.shape"
   ]
  },
  {
   "cell_type": "code",
   "execution_count": 15,
   "id": "a72086ca",
   "metadata": {},
   "outputs": [],
   "source": [
    "km = KMeans(n_clusters = 8)\n",
    "km.fit(data_arr)\n",
    "\n",
    "score = silhouette_score(data_arr, km.predict(data_arr))"
   ]
  },
  {
   "cell_type": "code",
   "execution_count": 12,
   "id": "1722745f",
   "metadata": {},
   "outputs": [
    {
     "data": {
      "text/plain": [
       "0.039674633535703926"
      ]
     },
     "execution_count": 12,
     "metadata": {},
     "output_type": "execute_result"
    }
   ],
   "source": [
    "silhouette_score(data_arr, km.predict(data_arr))"
   ]
  },
  {
   "cell_type": "code",
   "execution_count": 18,
   "id": "48ac5e4c",
   "metadata": {},
   "outputs": [],
   "source": [
    "km = KMeans(n_clusters = 8)\n",
    "km.fit(data_pca)\n",
    "\n",
    "score_pca = silhouette_score(data_pca, km.predict(data_pca))"
   ]
  },
  {
   "cell_type": "code",
   "execution_count": 19,
   "id": "05b75e91",
   "metadata": {},
   "outputs": [
    {
     "data": {
      "text/plain": [
       "(0.026345704019680193, 0.12779536098731403)"
      ]
     },
     "execution_count": 19,
     "metadata": {},
     "output_type": "execute_result"
    }
   ],
   "source": [
    "score, score_pca"
   ]
  },
  {
   "cell_type": "code",
   "execution_count": 14,
   "id": "408337db",
   "metadata": {},
   "outputs": [
    {
     "data": {
      "text/plain": [
       "0.13771047548469706"
      ]
     },
     "execution_count": 14,
     "metadata": {},
     "output_type": "execute_result"
    }
   ],
   "source": [
    "score"
   ]
  }
 ],
 "metadata": {
  "kernelspec": {
   "display_name": "Python 3 (ipykernel)",
   "language": "python",
   "name": "python3"
  },
  "language_info": {
   "codemirror_mode": {
    "name": "ipython",
    "version": 3
   },
   "file_extension": ".py",
   "mimetype": "text/x-python",
   "name": "python",
   "nbconvert_exporter": "python",
   "pygments_lexer": "ipython3",
   "version": "3.7.10"
  }
 },
 "nbformat": 4,
 "nbformat_minor": 5
}
